{
 "cells": [
  {
   "cell_type": "code",
   "execution_count": 2,
   "metadata": {},
   "outputs": [],
   "source": [
    "import pandas as pd\n",
    "import plotly.express as px\n",
    "import plotly.graph_objects as go\n",
    "import plotly.io as pio"
   ]
  },
  {
   "cell_type": "code",
   "execution_count": 3,
   "metadata": {},
   "outputs": [
    {
     "data": {
      "text/html": [
       "<div>\n",
       "<style scoped>\n",
       "    .dataframe tbody tr th:only-of-type {\n",
       "        vertical-align: middle;\n",
       "    }\n",
       "\n",
       "    .dataframe tbody tr th {\n",
       "        vertical-align: top;\n",
       "    }\n",
       "\n",
       "    .dataframe thead th {\n",
       "        text-align: right;\n",
       "    }\n",
       "</style>\n",
       "<table border=\"1\" class=\"dataframe\">\n",
       "  <thead>\n",
       "    <tr style=\"text-align: right;\">\n",
       "      <th></th>\n",
       "      <th>Unnamed: 0</th>\n",
       "      <th>id</th>\n",
       "      <th>city</th>\n",
       "      <th>latitude</th>\n",
       "      <th>longitude</th>\n",
       "      <th>Probability of precipitation jour1</th>\n",
       "      <th>Precipitation volume jour1</th>\n",
       "      <th>Probability of precipitation jour2</th>\n",
       "      <th>Precipitation volume jour2</th>\n",
       "      <th>Probability of precipitation jour3</th>\n",
       "      <th>...</th>\n",
       "      <th>Probability of precipitation jour4</th>\n",
       "      <th>Precipitation volume jour4</th>\n",
       "      <th>Probability of precipitation jour5</th>\n",
       "      <th>Precipitation volume jour5</th>\n",
       "      <th>Probability of precipitation jour6</th>\n",
       "      <th>Precipitation volume jour6</th>\n",
       "      <th>Probability of precipitation jour7</th>\n",
       "      <th>Precipitation volume jour7</th>\n",
       "      <th>Probability of precipitation jour8</th>\n",
       "      <th>Precipitation volume jour8</th>\n",
       "    </tr>\n",
       "  </thead>\n",
       "  <tbody>\n",
       "    <tr>\n",
       "      <th>0</th>\n",
       "      <td>0</td>\n",
       "      <td>0</td>\n",
       "      <td>Mont Saint Michel</td>\n",
       "      <td>48.635954</td>\n",
       "      <td>-1.511460</td>\n",
       "      <td>1.0</td>\n",
       "      <td>2.60</td>\n",
       "      <td>1.0</td>\n",
       "      <td>8.23</td>\n",
       "      <td>1.0</td>\n",
       "      <td>...</td>\n",
       "      <td>1.0</td>\n",
       "      <td>4.19</td>\n",
       "      <td>1.00</td>\n",
       "      <td>2.74</td>\n",
       "      <td>1.0</td>\n",
       "      <td>2.97</td>\n",
       "      <td>1.0</td>\n",
       "      <td>9.73</td>\n",
       "      <td>0.0</td>\n",
       "      <td>0.00</td>\n",
       "    </tr>\n",
       "    <tr>\n",
       "      <th>1</th>\n",
       "      <td>1</td>\n",
       "      <td>1</td>\n",
       "      <td>St Malo</td>\n",
       "      <td>48.649518</td>\n",
       "      <td>-2.026041</td>\n",
       "      <td>1.0</td>\n",
       "      <td>2.00</td>\n",
       "      <td>1.0</td>\n",
       "      <td>6.42</td>\n",
       "      <td>1.0</td>\n",
       "      <td>...</td>\n",
       "      <td>1.0</td>\n",
       "      <td>2.23</td>\n",
       "      <td>1.00</td>\n",
       "      <td>1.92</td>\n",
       "      <td>1.0</td>\n",
       "      <td>2.24</td>\n",
       "      <td>1.0</td>\n",
       "      <td>8.92</td>\n",
       "      <td>0.0</td>\n",
       "      <td>0.00</td>\n",
       "    </tr>\n",
       "    <tr>\n",
       "      <th>2</th>\n",
       "      <td>2</td>\n",
       "      <td>2</td>\n",
       "      <td>Bayeux</td>\n",
       "      <td>49.276462</td>\n",
       "      <td>-0.702474</td>\n",
       "      <td>1.0</td>\n",
       "      <td>0.88</td>\n",
       "      <td>1.0</td>\n",
       "      <td>11.62</td>\n",
       "      <td>1.0</td>\n",
       "      <td>...</td>\n",
       "      <td>1.0</td>\n",
       "      <td>4.36</td>\n",
       "      <td>1.00</td>\n",
       "      <td>2.02</td>\n",
       "      <td>1.0</td>\n",
       "      <td>0.62</td>\n",
       "      <td>1.0</td>\n",
       "      <td>7.31</td>\n",
       "      <td>0.0</td>\n",
       "      <td>0.00</td>\n",
       "    </tr>\n",
       "    <tr>\n",
       "      <th>3</th>\n",
       "      <td>3</td>\n",
       "      <td>3</td>\n",
       "      <td>Le Havre</td>\n",
       "      <td>49.493898</td>\n",
       "      <td>0.107973</td>\n",
       "      <td>1.0</td>\n",
       "      <td>2.61</td>\n",
       "      <td>1.0</td>\n",
       "      <td>17.81</td>\n",
       "      <td>1.0</td>\n",
       "      <td>...</td>\n",
       "      <td>1.0</td>\n",
       "      <td>8.51</td>\n",
       "      <td>1.00</td>\n",
       "      <td>3.91</td>\n",
       "      <td>1.0</td>\n",
       "      <td>1.56</td>\n",
       "      <td>1.0</td>\n",
       "      <td>8.25</td>\n",
       "      <td>0.2</td>\n",
       "      <td>0.15</td>\n",
       "    </tr>\n",
       "    <tr>\n",
       "      <th>4</th>\n",
       "      <td>4</td>\n",
       "      <td>4</td>\n",
       "      <td>Rouen</td>\n",
       "      <td>49.440459</td>\n",
       "      <td>1.093966</td>\n",
       "      <td>1.0</td>\n",
       "      <td>0.40</td>\n",
       "      <td>1.0</td>\n",
       "      <td>13.93</td>\n",
       "      <td>1.0</td>\n",
       "      <td>...</td>\n",
       "      <td>1.0</td>\n",
       "      <td>2.05</td>\n",
       "      <td>0.79</td>\n",
       "      <td>1.27</td>\n",
       "      <td>1.0</td>\n",
       "      <td>1.09</td>\n",
       "      <td>1.0</td>\n",
       "      <td>7.69</td>\n",
       "      <td>0.0</td>\n",
       "      <td>0.00</td>\n",
       "    </tr>\n",
       "  </tbody>\n",
       "</table>\n",
       "<p>5 rows × 21 columns</p>\n",
       "</div>"
      ],
      "text/plain": [
       "   Unnamed: 0  id               city   latitude  longitude  \\\n",
       "0           0   0  Mont Saint Michel  48.635954  -1.511460   \n",
       "1           1   1            St Malo  48.649518  -2.026041   \n",
       "2           2   2             Bayeux  49.276462  -0.702474   \n",
       "3           3   3           Le Havre  49.493898   0.107973   \n",
       "4           4   4              Rouen  49.440459   1.093966   \n",
       "\n",
       "   Probability of precipitation jour1  Precipitation volume jour1  \\\n",
       "0                                 1.0                        2.60   \n",
       "1                                 1.0                        2.00   \n",
       "2                                 1.0                        0.88   \n",
       "3                                 1.0                        2.61   \n",
       "4                                 1.0                        0.40   \n",
       "\n",
       "   Probability of precipitation jour2  Precipitation volume jour2  \\\n",
       "0                                 1.0                        8.23   \n",
       "1                                 1.0                        6.42   \n",
       "2                                 1.0                       11.62   \n",
       "3                                 1.0                       17.81   \n",
       "4                                 1.0                       13.93   \n",
       "\n",
       "   Probability of precipitation jour3  ...  \\\n",
       "0                                 1.0  ...   \n",
       "1                                 1.0  ...   \n",
       "2                                 1.0  ...   \n",
       "3                                 1.0  ...   \n",
       "4                                 1.0  ...   \n",
       "\n",
       "   Probability of precipitation jour4  Precipitation volume jour4  \\\n",
       "0                                 1.0                        4.19   \n",
       "1                                 1.0                        2.23   \n",
       "2                                 1.0                        4.36   \n",
       "3                                 1.0                        8.51   \n",
       "4                                 1.0                        2.05   \n",
       "\n",
       "   Probability of precipitation jour5  Precipitation volume jour5  \\\n",
       "0                                1.00                        2.74   \n",
       "1                                1.00                        1.92   \n",
       "2                                1.00                        2.02   \n",
       "3                                1.00                        3.91   \n",
       "4                                0.79                        1.27   \n",
       "\n",
       "   Probability of precipitation jour6  Precipitation volume jour6  \\\n",
       "0                                 1.0                        2.97   \n",
       "1                                 1.0                        2.24   \n",
       "2                                 1.0                        0.62   \n",
       "3                                 1.0                        1.56   \n",
       "4                                 1.0                        1.09   \n",
       "\n",
       "   Probability of precipitation jour7  Precipitation volume jour7  \\\n",
       "0                                 1.0                        9.73   \n",
       "1                                 1.0                        8.92   \n",
       "2                                 1.0                        7.31   \n",
       "3                                 1.0                        8.25   \n",
       "4                                 1.0                        7.69   \n",
       "\n",
       "   Probability of precipitation jour8  Precipitation volume jour8  \n",
       "0                                 0.0                        0.00  \n",
       "1                                 0.0                        0.00  \n",
       "2                                 0.0                        0.00  \n",
       "3                                 0.2                        0.15  \n",
       "4                                 0.0                        0.00  \n",
       "\n",
       "[5 rows x 21 columns]"
      ]
     },
     "execution_count": 3,
     "metadata": {},
     "output_type": "execute_result"
    }
   ],
   "source": [
    "df=pd.read_csv(\"data_ville_meteo.csv\")\n",
    "df.head()"
   ]
  },
  {
   "cell_type": "code",
   "execution_count": 4,
   "metadata": {},
   "outputs": [
    {
     "data": {
      "text/plain": [
       "0.875"
      ]
     },
     "execution_count": 4,
     "metadata": {},
     "output_type": "execute_result"
    }
   ],
   "source": [
    "#pop :Probability of precipitation\n",
    "mean_pop_city=[[] for i in range(len(df.city))]\n",
    "mean_pop=0\n",
    "for ville in range(len(df.city)):\n",
    "    for jour in range(8):\n",
    "        mean_pop=mean_pop+(df.loc[ville,f\"Probability of precipitation jour{jour+1}\"])\n",
    "        mean_pop_city[ville]=(mean_pop/8)\n",
    "    mean_pop=0\n",
    "mean_pop_city[0]\n"
   ]
  },
  {
   "cell_type": "code",
   "execution_count": 5,
   "metadata": {},
   "outputs": [
    {
     "data": {
      "text/plain": [
       "4.862500000000001"
      ]
     },
     "execution_count": 5,
     "metadata": {},
     "output_type": "execute_result"
    }
   ],
   "source": [
    "#rain (where available) :Precipitation volume\n",
    "#we calculate the average precipitation over the 8 next days:\n",
    "mean_rain_city=[[] for i in range(len(df.city))]\n",
    "mean_rain=0\n",
    "for ville in range(len(df.city)):\n",
    "    for jour in range(8):\n",
    "        mean_rain=mean_rain+(df.loc[ville,f\"Precipitation volume jour{jour+1}\"])\n",
    "        mean_rain_city[ville]=(mean_rain/8)\n",
    "    mean_arin=0\n",
    "mean_rain_city[0]"
   ]
  },
  {
   "cell_type": "code",
   "execution_count": 6,
   "metadata": {},
   "outputs": [],
   "source": [
    "#Add mean_rain_city as column in df\n",
    "df.insert(len(df.columns),\"mean_rain\",mean_rain_city)\n"
   ]
  },
  {
   "cell_type": "code",
   "execution_count": 7,
   "metadata": {},
   "outputs": [
    {
     "data": {
      "text/html": [
       "<div>\n",
       "<style scoped>\n",
       "    .dataframe tbody tr th:only-of-type {\n",
       "        vertical-align: middle;\n",
       "    }\n",
       "\n",
       "    .dataframe tbody tr th {\n",
       "        vertical-align: top;\n",
       "    }\n",
       "\n",
       "    .dataframe thead th {\n",
       "        text-align: right;\n",
       "    }\n",
       "</style>\n",
       "<table border=\"1\" class=\"dataframe\">\n",
       "  <thead>\n",
       "    <tr style=\"text-align: right;\">\n",
       "      <th></th>\n",
       "      <th>Unnamed: 0</th>\n",
       "      <th>id</th>\n",
       "      <th>city</th>\n",
       "      <th>latitude</th>\n",
       "      <th>longitude</th>\n",
       "      <th>Probability of precipitation jour1</th>\n",
       "      <th>Precipitation volume jour1</th>\n",
       "      <th>Probability of precipitation jour2</th>\n",
       "      <th>Precipitation volume jour2</th>\n",
       "      <th>Probability of precipitation jour3</th>\n",
       "      <th>...</th>\n",
       "      <th>Precipitation volume jour4</th>\n",
       "      <th>Probability of precipitation jour5</th>\n",
       "      <th>Precipitation volume jour5</th>\n",
       "      <th>Probability of precipitation jour6</th>\n",
       "      <th>Precipitation volume jour6</th>\n",
       "      <th>Probability of precipitation jour7</th>\n",
       "      <th>Precipitation volume jour7</th>\n",
       "      <th>Probability of precipitation jour8</th>\n",
       "      <th>Precipitation volume jour8</th>\n",
       "      <th>mean_rain</th>\n",
       "    </tr>\n",
       "  </thead>\n",
       "  <tbody>\n",
       "    <tr>\n",
       "      <th>0</th>\n",
       "      <td>0</td>\n",
       "      <td>0</td>\n",
       "      <td>Mont Saint Michel</td>\n",
       "      <td>48.635954</td>\n",
       "      <td>-1.511460</td>\n",
       "      <td>1.00</td>\n",
       "      <td>2.60</td>\n",
       "      <td>1.00</td>\n",
       "      <td>8.23</td>\n",
       "      <td>1.00</td>\n",
       "      <td>...</td>\n",
       "      <td>4.19</td>\n",
       "      <td>1.00</td>\n",
       "      <td>2.74</td>\n",
       "      <td>1.00</td>\n",
       "      <td>2.97</td>\n",
       "      <td>1.00</td>\n",
       "      <td>9.73</td>\n",
       "      <td>0.00</td>\n",
       "      <td>0.00</td>\n",
       "      <td>4.86250</td>\n",
       "    </tr>\n",
       "    <tr>\n",
       "      <th>1</th>\n",
       "      <td>1</td>\n",
       "      <td>1</td>\n",
       "      <td>St Malo</td>\n",
       "      <td>48.649518</td>\n",
       "      <td>-2.026041</td>\n",
       "      <td>1.00</td>\n",
       "      <td>2.00</td>\n",
       "      <td>1.00</td>\n",
       "      <td>6.42</td>\n",
       "      <td>1.00</td>\n",
       "      <td>...</td>\n",
       "      <td>2.23</td>\n",
       "      <td>1.00</td>\n",
       "      <td>1.92</td>\n",
       "      <td>1.00</td>\n",
       "      <td>2.24</td>\n",
       "      <td>1.00</td>\n",
       "      <td>8.92</td>\n",
       "      <td>0.00</td>\n",
       "      <td>0.00</td>\n",
       "      <td>8.55250</td>\n",
       "    </tr>\n",
       "    <tr>\n",
       "      <th>2</th>\n",
       "      <td>2</td>\n",
       "      <td>2</td>\n",
       "      <td>Bayeux</td>\n",
       "      <td>49.276462</td>\n",
       "      <td>-0.702474</td>\n",
       "      <td>1.00</td>\n",
       "      <td>0.88</td>\n",
       "      <td>1.00</td>\n",
       "      <td>11.62</td>\n",
       "      <td>1.00</td>\n",
       "      <td>...</td>\n",
       "      <td>4.36</td>\n",
       "      <td>1.00</td>\n",
       "      <td>2.02</td>\n",
       "      <td>1.00</td>\n",
       "      <td>0.62</td>\n",
       "      <td>1.00</td>\n",
       "      <td>7.31</td>\n",
       "      <td>0.00</td>\n",
       "      <td>0.00</td>\n",
       "      <td>12.58875</td>\n",
       "    </tr>\n",
       "    <tr>\n",
       "      <th>3</th>\n",
       "      <td>3</td>\n",
       "      <td>3</td>\n",
       "      <td>Le Havre</td>\n",
       "      <td>49.493898</td>\n",
       "      <td>0.107973</td>\n",
       "      <td>1.00</td>\n",
       "      <td>2.61</td>\n",
       "      <td>1.00</td>\n",
       "      <td>17.81</td>\n",
       "      <td>1.00</td>\n",
       "      <td>...</td>\n",
       "      <td>8.51</td>\n",
       "      <td>1.00</td>\n",
       "      <td>3.91</td>\n",
       "      <td>1.00</td>\n",
       "      <td>1.56</td>\n",
       "      <td>1.00</td>\n",
       "      <td>8.25</td>\n",
       "      <td>0.20</td>\n",
       "      <td>0.15</td>\n",
       "      <td>19.34875</td>\n",
       "    </tr>\n",
       "    <tr>\n",
       "      <th>4</th>\n",
       "      <td>4</td>\n",
       "      <td>4</td>\n",
       "      <td>Rouen</td>\n",
       "      <td>49.440459</td>\n",
       "      <td>1.093966</td>\n",
       "      <td>1.00</td>\n",
       "      <td>0.40</td>\n",
       "      <td>1.00</td>\n",
       "      <td>13.93</td>\n",
       "      <td>1.00</td>\n",
       "      <td>...</td>\n",
       "      <td>2.05</td>\n",
       "      <td>0.79</td>\n",
       "      <td>1.27</td>\n",
       "      <td>1.00</td>\n",
       "      <td>1.09</td>\n",
       "      <td>1.00</td>\n",
       "      <td>7.69</td>\n",
       "      <td>0.00</td>\n",
       "      <td>0.00</td>\n",
       "      <td>23.57625</td>\n",
       "    </tr>\n",
       "    <tr>\n",
       "      <th>5</th>\n",
       "      <td>5</td>\n",
       "      <td>5</td>\n",
       "      <td>Paris</td>\n",
       "      <td>48.858890</td>\n",
       "      <td>2.320041</td>\n",
       "      <td>0.38</td>\n",
       "      <td>0.00</td>\n",
       "      <td>1.00</td>\n",
       "      <td>13.16</td>\n",
       "      <td>1.00</td>\n",
       "      <td>...</td>\n",
       "      <td>0.29</td>\n",
       "      <td>1.00</td>\n",
       "      <td>1.32</td>\n",
       "      <td>0.00</td>\n",
       "      <td>0.00</td>\n",
       "      <td>1.00</td>\n",
       "      <td>2.66</td>\n",
       "      <td>0.00</td>\n",
       "      <td>0.00</td>\n",
       "      <td>26.38625</td>\n",
       "    </tr>\n",
       "    <tr>\n",
       "      <th>6</th>\n",
       "      <td>6</td>\n",
       "      <td>6</td>\n",
       "      <td>Amiens</td>\n",
       "      <td>49.894171</td>\n",
       "      <td>2.295695</td>\n",
       "      <td>1.00</td>\n",
       "      <td>4.34</td>\n",
       "      <td>1.00</td>\n",
       "      <td>14.55</td>\n",
       "      <td>1.00</td>\n",
       "      <td>...</td>\n",
       "      <td>1.70</td>\n",
       "      <td>0.45</td>\n",
       "      <td>0.76</td>\n",
       "      <td>0.20</td>\n",
       "      <td>0.12</td>\n",
       "      <td>1.00</td>\n",
       "      <td>4.83</td>\n",
       "      <td>0.00</td>\n",
       "      <td>0.00</td>\n",
       "      <td>30.01875</td>\n",
       "    </tr>\n",
       "    <tr>\n",
       "      <th>7</th>\n",
       "      <td>7</td>\n",
       "      <td>7</td>\n",
       "      <td>Lille</td>\n",
       "      <td>50.636565</td>\n",
       "      <td>3.063528</td>\n",
       "      <td>1.00</td>\n",
       "      <td>1.95</td>\n",
       "      <td>1.00</td>\n",
       "      <td>7.29</td>\n",
       "      <td>1.00</td>\n",
       "      <td>...</td>\n",
       "      <td>4.45</td>\n",
       "      <td>1.00</td>\n",
       "      <td>3.50</td>\n",
       "      <td>0.00</td>\n",
       "      <td>0.00</td>\n",
       "      <td>1.00</td>\n",
       "      <td>2.95</td>\n",
       "      <td>0.20</td>\n",
       "      <td>0.12</td>\n",
       "      <td>33.40250</td>\n",
       "    </tr>\n",
       "    <tr>\n",
       "      <th>8</th>\n",
       "      <td>8</td>\n",
       "      <td>8</td>\n",
       "      <td>Strasbourg</td>\n",
       "      <td>48.584614</td>\n",
       "      <td>7.750713</td>\n",
       "      <td>0.00</td>\n",
       "      <td>0.00</td>\n",
       "      <td>1.00</td>\n",
       "      <td>6.90</td>\n",
       "      <td>1.00</td>\n",
       "      <td>...</td>\n",
       "      <td>1.00</td>\n",
       "      <td>1.00</td>\n",
       "      <td>1.74</td>\n",
       "      <td>0.62</td>\n",
       "      <td>0.23</td>\n",
       "      <td>1.00</td>\n",
       "      <td>0.61</td>\n",
       "      <td>1.00</td>\n",
       "      <td>1.37</td>\n",
       "      <td>35.58500</td>\n",
       "    </tr>\n",
       "    <tr>\n",
       "      <th>9</th>\n",
       "      <td>9</td>\n",
       "      <td>9</td>\n",
       "      <td>Chateau du Haut Koenigsbourg</td>\n",
       "      <td>48.249490</td>\n",
       "      <td>7.344296</td>\n",
       "      <td>0.02</td>\n",
       "      <td>0.00</td>\n",
       "      <td>1.00</td>\n",
       "      <td>13.93</td>\n",
       "      <td>1.00</td>\n",
       "      <td>...</td>\n",
       "      <td>1.00</td>\n",
       "      <td>1.00</td>\n",
       "      <td>1.32</td>\n",
       "      <td>0.72</td>\n",
       "      <td>1.10</td>\n",
       "      <td>0.91</td>\n",
       "      <td>0.41</td>\n",
       "      <td>1.00</td>\n",
       "      <td>2.19</td>\n",
       "      <td>39.40875</td>\n",
       "    </tr>\n",
       "    <tr>\n",
       "      <th>10</th>\n",
       "      <td>10</td>\n",
       "      <td>10</td>\n",
       "      <td>Colmar</td>\n",
       "      <td>48.077752</td>\n",
       "      <td>7.357964</td>\n",
       "      <td>0.00</td>\n",
       "      <td>0.00</td>\n",
       "      <td>1.00</td>\n",
       "      <td>18.80</td>\n",
       "      <td>1.00</td>\n",
       "      <td>...</td>\n",
       "      <td>1.15</td>\n",
       "      <td>1.00</td>\n",
       "      <td>1.02</td>\n",
       "      <td>0.51</td>\n",
       "      <td>0.76</td>\n",
       "      <td>0.59</td>\n",
       "      <td>0.22</td>\n",
       "      <td>1.00</td>\n",
       "      <td>1.73</td>\n",
       "      <td>44.12375</td>\n",
       "    </tr>\n",
       "    <tr>\n",
       "      <th>11</th>\n",
       "      <td>11</td>\n",
       "      <td>11</td>\n",
       "      <td>Eguisheim</td>\n",
       "      <td>48.044797</td>\n",
       "      <td>7.307962</td>\n",
       "      <td>0.00</td>\n",
       "      <td>0.00</td>\n",
       "      <td>1.00</td>\n",
       "      <td>20.69</td>\n",
       "      <td>1.00</td>\n",
       "      <td>...</td>\n",
       "      <td>1.34</td>\n",
       "      <td>1.00</td>\n",
       "      <td>2.51</td>\n",
       "      <td>0.59</td>\n",
       "      <td>0.70</td>\n",
       "      <td>0.57</td>\n",
       "      <td>0.20</td>\n",
       "      <td>1.00</td>\n",
       "      <td>1.48</td>\n",
       "      <td>49.46000</td>\n",
       "    </tr>\n",
       "    <tr>\n",
       "      <th>12</th>\n",
       "      <td>12</td>\n",
       "      <td>12</td>\n",
       "      <td>Besancon</td>\n",
       "      <td>47.238022</td>\n",
       "      <td>6.024362</td>\n",
       "      <td>0.71</td>\n",
       "      <td>0.44</td>\n",
       "      <td>1.00</td>\n",
       "      <td>8.68</td>\n",
       "      <td>1.00</td>\n",
       "      <td>...</td>\n",
       "      <td>4.36</td>\n",
       "      <td>1.00</td>\n",
       "      <td>4.19</td>\n",
       "      <td>1.00</td>\n",
       "      <td>0.52</td>\n",
       "      <td>1.00</td>\n",
       "      <td>0.40</td>\n",
       "      <td>1.00</td>\n",
       "      <td>0.98</td>\n",
       "      <td>53.40250</td>\n",
       "    </tr>\n",
       "    <tr>\n",
       "      <th>13</th>\n",
       "      <td>13</td>\n",
       "      <td>13</td>\n",
       "      <td>Dijon</td>\n",
       "      <td>47.321581</td>\n",
       "      <td>5.041470</td>\n",
       "      <td>0.00</td>\n",
       "      <td>0.00</td>\n",
       "      <td>1.00</td>\n",
       "      <td>11.95</td>\n",
       "      <td>1.00</td>\n",
       "      <td>...</td>\n",
       "      <td>2.84</td>\n",
       "      <td>1.00</td>\n",
       "      <td>0.99</td>\n",
       "      <td>0.35</td>\n",
       "      <td>0.12</td>\n",
       "      <td>1.00</td>\n",
       "      <td>0.60</td>\n",
       "      <td>0.77</td>\n",
       "      <td>0.29</td>\n",
       "      <td>56.67500</td>\n",
       "    </tr>\n",
       "    <tr>\n",
       "      <th>14</th>\n",
       "      <td>14</td>\n",
       "      <td>14</td>\n",
       "      <td>Annecy</td>\n",
       "      <td>45.899235</td>\n",
       "      <td>6.128885</td>\n",
       "      <td>1.00</td>\n",
       "      <td>10.79</td>\n",
       "      <td>1.00</td>\n",
       "      <td>23.62</td>\n",
       "      <td>1.00</td>\n",
       "      <td>...</td>\n",
       "      <td>6.41</td>\n",
       "      <td>0.86</td>\n",
       "      <td>0.54</td>\n",
       "      <td>1.00</td>\n",
       "      <td>1.08</td>\n",
       "      <td>0.85</td>\n",
       "      <td>0.27</td>\n",
       "      <td>1.00</td>\n",
       "      <td>1.06</td>\n",
       "      <td>65.42000</td>\n",
       "    </tr>\n",
       "    <tr>\n",
       "      <th>15</th>\n",
       "      <td>15</td>\n",
       "      <td>15</td>\n",
       "      <td>Grenoble</td>\n",
       "      <td>45.187560</td>\n",
       "      <td>5.735782</td>\n",
       "      <td>1.00</td>\n",
       "      <td>8.90</td>\n",
       "      <td>1.00</td>\n",
       "      <td>9.23</td>\n",
       "      <td>1.00</td>\n",
       "      <td>...</td>\n",
       "      <td>3.00</td>\n",
       "      <td>0.00</td>\n",
       "      <td>0.00</td>\n",
       "      <td>1.00</td>\n",
       "      <td>1.95</td>\n",
       "      <td>0.27</td>\n",
       "      <td>0.12</td>\n",
       "      <td>1.00</td>\n",
       "      <td>1.28</td>\n",
       "      <td>69.39625</td>\n",
       "    </tr>\n",
       "    <tr>\n",
       "      <th>16</th>\n",
       "      <td>16</td>\n",
       "      <td>16</td>\n",
       "      <td>Lyon</td>\n",
       "      <td>45.757814</td>\n",
       "      <td>4.832011</td>\n",
       "      <td>1.00</td>\n",
       "      <td>1.66</td>\n",
       "      <td>1.00</td>\n",
       "      <td>10.82</td>\n",
       "      <td>0.98</td>\n",
       "      <td>...</td>\n",
       "      <td>1.54</td>\n",
       "      <td>0.00</td>\n",
       "      <td>0.00</td>\n",
       "      <td>1.00</td>\n",
       "      <td>1.41</td>\n",
       "      <td>0.00</td>\n",
       "      <td>0.00</td>\n",
       "      <td>1.00</td>\n",
       "      <td>0.90</td>\n",
       "      <td>71.55125</td>\n",
       "    </tr>\n",
       "    <tr>\n",
       "      <th>17</th>\n",
       "      <td>17</td>\n",
       "      <td>17</td>\n",
       "      <td>Gorges du Verdon</td>\n",
       "      <td>43.749656</td>\n",
       "      <td>6.328562</td>\n",
       "      <td>1.00</td>\n",
       "      <td>6.12</td>\n",
       "      <td>1.00</td>\n",
       "      <td>7.76</td>\n",
       "      <td>1.00</td>\n",
       "      <td>...</td>\n",
       "      <td>0.00</td>\n",
       "      <td>0.00</td>\n",
       "      <td>0.00</td>\n",
       "      <td>0.00</td>\n",
       "      <td>0.00</td>\n",
       "      <td>0.28</td>\n",
       "      <td>0.12</td>\n",
       "      <td>0.21</td>\n",
       "      <td>0.11</td>\n",
       "      <td>73.48000</td>\n",
       "    </tr>\n",
       "    <tr>\n",
       "      <th>18</th>\n",
       "      <td>18</td>\n",
       "      <td>18</td>\n",
       "      <td>Bormes les Mimosas</td>\n",
       "      <td>43.150697</td>\n",
       "      <td>6.341928</td>\n",
       "      <td>1.00</td>\n",
       "      <td>1.37</td>\n",
       "      <td>1.00</td>\n",
       "      <td>2.88</td>\n",
       "      <td>0.80</td>\n",
       "      <td>...</td>\n",
       "      <td>0.00</td>\n",
       "      <td>0.00</td>\n",
       "      <td>0.00</td>\n",
       "      <td>0.00</td>\n",
       "      <td>0.00</td>\n",
       "      <td>0.00</td>\n",
       "      <td>0.00</td>\n",
       "      <td>0.20</td>\n",
       "      <td>0.12</td>\n",
       "      <td>74.02625</td>\n",
       "    </tr>\n",
       "    <tr>\n",
       "      <th>19</th>\n",
       "      <td>19</td>\n",
       "      <td>19</td>\n",
       "      <td>Cassis</td>\n",
       "      <td>43.214036</td>\n",
       "      <td>5.539632</td>\n",
       "      <td>1.00</td>\n",
       "      <td>1.69</td>\n",
       "      <td>0.95</td>\n",
       "      <td>0.91</td>\n",
       "      <td>0.64</td>\n",
       "      <td>...</td>\n",
       "      <td>0.00</td>\n",
       "      <td>0.00</td>\n",
       "      <td>0.00</td>\n",
       "      <td>0.00</td>\n",
       "      <td>0.00</td>\n",
       "      <td>1.00</td>\n",
       "      <td>0.38</td>\n",
       "      <td>0.71</td>\n",
       "      <td>0.27</td>\n",
       "      <td>74.50375</td>\n",
       "    </tr>\n",
       "    <tr>\n",
       "      <th>20</th>\n",
       "      <td>20</td>\n",
       "      <td>20</td>\n",
       "      <td>Marseille</td>\n",
       "      <td>43.296174</td>\n",
       "      <td>5.369953</td>\n",
       "      <td>1.00</td>\n",
       "      <td>1.29</td>\n",
       "      <td>0.66</td>\n",
       "      <td>0.44</td>\n",
       "      <td>0.67</td>\n",
       "      <td>...</td>\n",
       "      <td>0.00</td>\n",
       "      <td>0.00</td>\n",
       "      <td>0.00</td>\n",
       "      <td>0.00</td>\n",
       "      <td>0.00</td>\n",
       "      <td>1.00</td>\n",
       "      <td>0.43</td>\n",
       "      <td>0.97</td>\n",
       "      <td>0.10</td>\n",
       "      <td>74.86875</td>\n",
       "    </tr>\n",
       "    <tr>\n",
       "      <th>21</th>\n",
       "      <td>21</td>\n",
       "      <td>21</td>\n",
       "      <td>Aix en Provence</td>\n",
       "      <td>43.529842</td>\n",
       "      <td>5.447474</td>\n",
       "      <td>1.00</td>\n",
       "      <td>2.43</td>\n",
       "      <td>1.00</td>\n",
       "      <td>0.92</td>\n",
       "      <td>1.00</td>\n",
       "      <td>...</td>\n",
       "      <td>0.00</td>\n",
       "      <td>0.00</td>\n",
       "      <td>0.00</td>\n",
       "      <td>0.00</td>\n",
       "      <td>0.00</td>\n",
       "      <td>1.00</td>\n",
       "      <td>0.26</td>\n",
       "      <td>0.78</td>\n",
       "      <td>0.00</td>\n",
       "      <td>75.46250</td>\n",
       "    </tr>\n",
       "    <tr>\n",
       "      <th>22</th>\n",
       "      <td>22</td>\n",
       "      <td>22</td>\n",
       "      <td>Avignon</td>\n",
       "      <td>43.949249</td>\n",
       "      <td>4.805901</td>\n",
       "      <td>1.00</td>\n",
       "      <td>6.71</td>\n",
       "      <td>1.00</td>\n",
       "      <td>2.64</td>\n",
       "      <td>0.80</td>\n",
       "      <td>...</td>\n",
       "      <td>0.00</td>\n",
       "      <td>0.00</td>\n",
       "      <td>0.00</td>\n",
       "      <td>0.00</td>\n",
       "      <td>0.00</td>\n",
       "      <td>0.00</td>\n",
       "      <td>0.00</td>\n",
       "      <td>0.00</td>\n",
       "      <td>0.00</td>\n",
       "      <td>76.63125</td>\n",
       "    </tr>\n",
       "    <tr>\n",
       "      <th>23</th>\n",
       "      <td>23</td>\n",
       "      <td>23</td>\n",
       "      <td>Uzes</td>\n",
       "      <td>44.012128</td>\n",
       "      <td>4.419672</td>\n",
       "      <td>1.00</td>\n",
       "      <td>5.98</td>\n",
       "      <td>1.00</td>\n",
       "      <td>3.03</td>\n",
       "      <td>0.68</td>\n",
       "      <td>...</td>\n",
       "      <td>0.00</td>\n",
       "      <td>0.00</td>\n",
       "      <td>0.00</td>\n",
       "      <td>0.00</td>\n",
       "      <td>0.00</td>\n",
       "      <td>0.00</td>\n",
       "      <td>0.00</td>\n",
       "      <td>0.00</td>\n",
       "      <td>0.00</td>\n",
       "      <td>77.75750</td>\n",
       "    </tr>\n",
       "    <tr>\n",
       "      <th>24</th>\n",
       "      <td>24</td>\n",
       "      <td>24</td>\n",
       "      <td>Nimes</td>\n",
       "      <td>43.837425</td>\n",
       "      <td>4.360069</td>\n",
       "      <td>0.90</td>\n",
       "      <td>1.66</td>\n",
       "      <td>1.00</td>\n",
       "      <td>3.21</td>\n",
       "      <td>0.80</td>\n",
       "      <td>...</td>\n",
       "      <td>0.00</td>\n",
       "      <td>0.00</td>\n",
       "      <td>0.00</td>\n",
       "      <td>0.00</td>\n",
       "      <td>0.00</td>\n",
       "      <td>0.00</td>\n",
       "      <td>0.00</td>\n",
       "      <td>0.00</td>\n",
       "      <td>0.00</td>\n",
       "      <td>78.36625</td>\n",
       "    </tr>\n",
       "    <tr>\n",
       "      <th>25</th>\n",
       "      <td>25</td>\n",
       "      <td>25</td>\n",
       "      <td>Aigues Mortes</td>\n",
       "      <td>43.566152</td>\n",
       "      <td>4.191540</td>\n",
       "      <td>0.43</td>\n",
       "      <td>0.14</td>\n",
       "      <td>1.00</td>\n",
       "      <td>1.71</td>\n",
       "      <td>0.80</td>\n",
       "      <td>...</td>\n",
       "      <td>0.00</td>\n",
       "      <td>0.00</td>\n",
       "      <td>0.00</td>\n",
       "      <td>0.00</td>\n",
       "      <td>0.00</td>\n",
       "      <td>0.29</td>\n",
       "      <td>0.33</td>\n",
       "      <td>0.00</td>\n",
       "      <td>0.00</td>\n",
       "      <td>78.63875</td>\n",
       "    </tr>\n",
       "    <tr>\n",
       "      <th>26</th>\n",
       "      <td>26</td>\n",
       "      <td>26</td>\n",
       "      <td>Saintes Maries de la mer</td>\n",
       "      <td>43.451592</td>\n",
       "      <td>4.427720</td>\n",
       "      <td>0.57</td>\n",
       "      <td>0.23</td>\n",
       "      <td>0.83</td>\n",
       "      <td>0.64</td>\n",
       "      <td>0.77</td>\n",
       "      <td>...</td>\n",
       "      <td>0.00</td>\n",
       "      <td>0.00</td>\n",
       "      <td>0.00</td>\n",
       "      <td>0.00</td>\n",
       "      <td>0.00</td>\n",
       "      <td>0.20</td>\n",
       "      <td>0.24</td>\n",
       "      <td>0.20</td>\n",
       "      <td>0.12</td>\n",
       "      <td>78.79250</td>\n",
       "    </tr>\n",
       "    <tr>\n",
       "      <th>27</th>\n",
       "      <td>27</td>\n",
       "      <td>27</td>\n",
       "      <td>Collioure</td>\n",
       "      <td>42.525050</td>\n",
       "      <td>3.083155</td>\n",
       "      <td>0.40</td>\n",
       "      <td>0.00</td>\n",
       "      <td>0.00</td>\n",
       "      <td>0.00</td>\n",
       "      <td>0.73</td>\n",
       "      <td>...</td>\n",
       "      <td>1.61</td>\n",
       "      <td>0.00</td>\n",
       "      <td>0.00</td>\n",
       "      <td>0.00</td>\n",
       "      <td>0.00</td>\n",
       "      <td>0.26</td>\n",
       "      <td>0.39</td>\n",
       "      <td>0.00</td>\n",
       "      <td>0.00</td>\n",
       "      <td>79.11375</td>\n",
       "    </tr>\n",
       "    <tr>\n",
       "      <th>28</th>\n",
       "      <td>28</td>\n",
       "      <td>28</td>\n",
       "      <td>Carcassonne</td>\n",
       "      <td>43.213036</td>\n",
       "      <td>2.349107</td>\n",
       "      <td>1.00</td>\n",
       "      <td>17.37</td>\n",
       "      <td>1.00</td>\n",
       "      <td>4.61</td>\n",
       "      <td>0.90</td>\n",
       "      <td>...</td>\n",
       "      <td>0.50</td>\n",
       "      <td>0.00</td>\n",
       "      <td>0.00</td>\n",
       "      <td>0.00</td>\n",
       "      <td>0.00</td>\n",
       "      <td>1.00</td>\n",
       "      <td>1.42</td>\n",
       "      <td>0.52</td>\n",
       "      <td>0.00</td>\n",
       "      <td>82.10125</td>\n",
       "    </tr>\n",
       "    <tr>\n",
       "      <th>29</th>\n",
       "      <td>29</td>\n",
       "      <td>29</td>\n",
       "      <td>Ariege</td>\n",
       "      <td>42.945537</td>\n",
       "      <td>1.406554</td>\n",
       "      <td>1.00</td>\n",
       "      <td>4.84</td>\n",
       "      <td>1.00</td>\n",
       "      <td>2.08</td>\n",
       "      <td>0.79</td>\n",
       "      <td>...</td>\n",
       "      <td>4.25</td>\n",
       "      <td>0.59</td>\n",
       "      <td>0.13</td>\n",
       "      <td>0.00</td>\n",
       "      <td>0.00</td>\n",
       "      <td>1.00</td>\n",
       "      <td>1.08</td>\n",
       "      <td>1.00</td>\n",
       "      <td>0.13</td>\n",
       "      <td>83.72875</td>\n",
       "    </tr>\n",
       "    <tr>\n",
       "      <th>30</th>\n",
       "      <td>30</td>\n",
       "      <td>30</td>\n",
       "      <td>Toulouse</td>\n",
       "      <td>43.604462</td>\n",
       "      <td>1.444247</td>\n",
       "      <td>1.00</td>\n",
       "      <td>22.33</td>\n",
       "      <td>1.00</td>\n",
       "      <td>3.34</td>\n",
       "      <td>0.82</td>\n",
       "      <td>...</td>\n",
       "      <td>1.35</td>\n",
       "      <td>0.76</td>\n",
       "      <td>0.64</td>\n",
       "      <td>0.00</td>\n",
       "      <td>0.00</td>\n",
       "      <td>1.00</td>\n",
       "      <td>1.97</td>\n",
       "      <td>0.20</td>\n",
       "      <td>0.18</td>\n",
       "      <td>87.56750</td>\n",
       "    </tr>\n",
       "    <tr>\n",
       "      <th>31</th>\n",
       "      <td>31</td>\n",
       "      <td>31</td>\n",
       "      <td>Montauban</td>\n",
       "      <td>44.017584</td>\n",
       "      <td>1.354999</td>\n",
       "      <td>1.00</td>\n",
       "      <td>27.42</td>\n",
       "      <td>1.00</td>\n",
       "      <td>15.70</td>\n",
       "      <td>1.00</td>\n",
       "      <td>...</td>\n",
       "      <td>5.02</td>\n",
       "      <td>1.00</td>\n",
       "      <td>1.54</td>\n",
       "      <td>0.00</td>\n",
       "      <td>0.00</td>\n",
       "      <td>1.00</td>\n",
       "      <td>1.04</td>\n",
       "      <td>0.00</td>\n",
       "      <td>0.00</td>\n",
       "      <td>94.42250</td>\n",
       "    </tr>\n",
       "    <tr>\n",
       "      <th>32</th>\n",
       "      <td>32</td>\n",
       "      <td>32</td>\n",
       "      <td>Biarritz</td>\n",
       "      <td>43.483252</td>\n",
       "      <td>-1.559278</td>\n",
       "      <td>1.00</td>\n",
       "      <td>23.61</td>\n",
       "      <td>1.00</td>\n",
       "      <td>15.87</td>\n",
       "      <td>1.00</td>\n",
       "      <td>...</td>\n",
       "      <td>9.36</td>\n",
       "      <td>1.00</td>\n",
       "      <td>2.73</td>\n",
       "      <td>0.99</td>\n",
       "      <td>0.22</td>\n",
       "      <td>1.00</td>\n",
       "      <td>1.38</td>\n",
       "      <td>0.00</td>\n",
       "      <td>0.00</td>\n",
       "      <td>103.14625</td>\n",
       "    </tr>\n",
       "    <tr>\n",
       "      <th>33</th>\n",
       "      <td>33</td>\n",
       "      <td>33</td>\n",
       "      <td>Bayonne</td>\n",
       "      <td>43.494514</td>\n",
       "      <td>-1.473666</td>\n",
       "      <td>1.00</td>\n",
       "      <td>25.69</td>\n",
       "      <td>1.00</td>\n",
       "      <td>16.06</td>\n",
       "      <td>1.00</td>\n",
       "      <td>...</td>\n",
       "      <td>10.15</td>\n",
       "      <td>1.00</td>\n",
       "      <td>2.44</td>\n",
       "      <td>0.93</td>\n",
       "      <td>0.23</td>\n",
       "      <td>1.00</td>\n",
       "      <td>1.22</td>\n",
       "      <td>0.00</td>\n",
       "      <td>0.00</td>\n",
       "      <td>112.22250</td>\n",
       "    </tr>\n",
       "    <tr>\n",
       "      <th>34</th>\n",
       "      <td>34</td>\n",
       "      <td>34</td>\n",
       "      <td>La Rochelle</td>\n",
       "      <td>46.159113</td>\n",
       "      <td>-1.152043</td>\n",
       "      <td>1.00</td>\n",
       "      <td>10.67</td>\n",
       "      <td>1.00</td>\n",
       "      <td>28.81</td>\n",
       "      <td>1.00</td>\n",
       "      <td>...</td>\n",
       "      <td>15.10</td>\n",
       "      <td>1.00</td>\n",
       "      <td>6.00</td>\n",
       "      <td>1.00</td>\n",
       "      <td>1.94</td>\n",
       "      <td>1.00</td>\n",
       "      <td>1.27</td>\n",
       "      <td>0.00</td>\n",
       "      <td>0.00</td>\n",
       "      <td>121.17000</td>\n",
       "    </tr>\n",
       "  </tbody>\n",
       "</table>\n",
       "<p>35 rows × 22 columns</p>\n",
       "</div>"
      ],
      "text/plain": [
       "    Unnamed: 0  id                          city   latitude  longitude  \\\n",
       "0            0   0             Mont Saint Michel  48.635954  -1.511460   \n",
       "1            1   1                       St Malo  48.649518  -2.026041   \n",
       "2            2   2                        Bayeux  49.276462  -0.702474   \n",
       "3            3   3                      Le Havre  49.493898   0.107973   \n",
       "4            4   4                         Rouen  49.440459   1.093966   \n",
       "5            5   5                         Paris  48.858890   2.320041   \n",
       "6            6   6                        Amiens  49.894171   2.295695   \n",
       "7            7   7                         Lille  50.636565   3.063528   \n",
       "8            8   8                    Strasbourg  48.584614   7.750713   \n",
       "9            9   9  Chateau du Haut Koenigsbourg  48.249490   7.344296   \n",
       "10          10  10                        Colmar  48.077752   7.357964   \n",
       "11          11  11                     Eguisheim  48.044797   7.307962   \n",
       "12          12  12                      Besancon  47.238022   6.024362   \n",
       "13          13  13                         Dijon  47.321581   5.041470   \n",
       "14          14  14                        Annecy  45.899235   6.128885   \n",
       "15          15  15                      Grenoble  45.187560   5.735782   \n",
       "16          16  16                          Lyon  45.757814   4.832011   \n",
       "17          17  17              Gorges du Verdon  43.749656   6.328562   \n",
       "18          18  18            Bormes les Mimosas  43.150697   6.341928   \n",
       "19          19  19                        Cassis  43.214036   5.539632   \n",
       "20          20  20                     Marseille  43.296174   5.369953   \n",
       "21          21  21               Aix en Provence  43.529842   5.447474   \n",
       "22          22  22                       Avignon  43.949249   4.805901   \n",
       "23          23  23                          Uzes  44.012128   4.419672   \n",
       "24          24  24                         Nimes  43.837425   4.360069   \n",
       "25          25  25                 Aigues Mortes  43.566152   4.191540   \n",
       "26          26  26      Saintes Maries de la mer  43.451592   4.427720   \n",
       "27          27  27                     Collioure  42.525050   3.083155   \n",
       "28          28  28                   Carcassonne  43.213036   2.349107   \n",
       "29          29  29                        Ariege  42.945537   1.406554   \n",
       "30          30  30                      Toulouse  43.604462   1.444247   \n",
       "31          31  31                     Montauban  44.017584   1.354999   \n",
       "32          32  32                      Biarritz  43.483252  -1.559278   \n",
       "33          33  33                       Bayonne  43.494514  -1.473666   \n",
       "34          34  34                   La Rochelle  46.159113  -1.152043   \n",
       "\n",
       "    Probability of precipitation jour1  Precipitation volume jour1  \\\n",
       "0                                 1.00                        2.60   \n",
       "1                                 1.00                        2.00   \n",
       "2                                 1.00                        0.88   \n",
       "3                                 1.00                        2.61   \n",
       "4                                 1.00                        0.40   \n",
       "5                                 0.38                        0.00   \n",
       "6                                 1.00                        4.34   \n",
       "7                                 1.00                        1.95   \n",
       "8                                 0.00                        0.00   \n",
       "9                                 0.02                        0.00   \n",
       "10                                0.00                        0.00   \n",
       "11                                0.00                        0.00   \n",
       "12                                0.71                        0.44   \n",
       "13                                0.00                        0.00   \n",
       "14                                1.00                       10.79   \n",
       "15                                1.00                        8.90   \n",
       "16                                1.00                        1.66   \n",
       "17                                1.00                        6.12   \n",
       "18                                1.00                        1.37   \n",
       "19                                1.00                        1.69   \n",
       "20                                1.00                        1.29   \n",
       "21                                1.00                        2.43   \n",
       "22                                1.00                        6.71   \n",
       "23                                1.00                        5.98   \n",
       "24                                0.90                        1.66   \n",
       "25                                0.43                        0.14   \n",
       "26                                0.57                        0.23   \n",
       "27                                0.40                        0.00   \n",
       "28                                1.00                       17.37   \n",
       "29                                1.00                        4.84   \n",
       "30                                1.00                       22.33   \n",
       "31                                1.00                       27.42   \n",
       "32                                1.00                       23.61   \n",
       "33                                1.00                       25.69   \n",
       "34                                1.00                       10.67   \n",
       "\n",
       "    Probability of precipitation jour2  Precipitation volume jour2  \\\n",
       "0                                 1.00                        8.23   \n",
       "1                                 1.00                        6.42   \n",
       "2                                 1.00                       11.62   \n",
       "3                                 1.00                       17.81   \n",
       "4                                 1.00                       13.93   \n",
       "5                                 1.00                       13.16   \n",
       "6                                 1.00                       14.55   \n",
       "7                                 1.00                        7.29   \n",
       "8                                 1.00                        6.90   \n",
       "9                                 1.00                       13.93   \n",
       "10                                1.00                       18.80   \n",
       "11                                1.00                       20.69   \n",
       "12                                1.00                        8.68   \n",
       "13                                1.00                       11.95   \n",
       "14                                1.00                       23.62   \n",
       "15                                1.00                        9.23   \n",
       "16                                1.00                       10.82   \n",
       "17                                1.00                        7.76   \n",
       "18                                1.00                        2.88   \n",
       "19                                0.95                        0.91   \n",
       "20                                0.66                        0.44   \n",
       "21                                1.00                        0.92   \n",
       "22                                1.00                        2.64   \n",
       "23                                1.00                        3.03   \n",
       "24                                1.00                        3.21   \n",
       "25                                1.00                        1.71   \n",
       "26                                0.83                        0.64   \n",
       "27                                0.00                        0.00   \n",
       "28                                1.00                        4.61   \n",
       "29                                1.00                        2.08   \n",
       "30                                1.00                        3.34   \n",
       "31                                1.00                       15.70   \n",
       "32                                1.00                       15.87   \n",
       "33                                1.00                       16.06   \n",
       "34                                1.00                       28.81   \n",
       "\n",
       "    Probability of precipitation jour3  ...  Precipitation volume jour4  \\\n",
       "0                                 1.00  ...                        4.19   \n",
       "1                                 1.00  ...                        2.23   \n",
       "2                                 1.00  ...                        4.36   \n",
       "3                                 1.00  ...                        8.51   \n",
       "4                                 1.00  ...                        2.05   \n",
       "5                                 1.00  ...                        0.29   \n",
       "6                                 1.00  ...                        1.70   \n",
       "7                                 1.00  ...                        4.45   \n",
       "8                                 1.00  ...                        1.00   \n",
       "9                                 1.00  ...                        1.00   \n",
       "10                                1.00  ...                        1.15   \n",
       "11                                1.00  ...                        1.34   \n",
       "12                                1.00  ...                        4.36   \n",
       "13                                1.00  ...                        2.84   \n",
       "14                                1.00  ...                        6.41   \n",
       "15                                1.00  ...                        3.00   \n",
       "16                                0.98  ...                        1.54   \n",
       "17                                1.00  ...                        0.00   \n",
       "18                                0.80  ...                        0.00   \n",
       "19                                0.64  ...                        0.00   \n",
       "20                                0.67  ...                        0.00   \n",
       "21                                1.00  ...                        0.00   \n",
       "22                                0.80  ...                        0.00   \n",
       "23                                0.68  ...                        0.00   \n",
       "24                                0.80  ...                        0.00   \n",
       "25                                0.80  ...                        0.00   \n",
       "26                                0.77  ...                        0.00   \n",
       "27                                0.73  ...                        1.61   \n",
       "28                                0.90  ...                        0.50   \n",
       "29                                0.79  ...                        4.25   \n",
       "30                                0.82  ...                        1.35   \n",
       "31                                1.00  ...                        5.02   \n",
       "32                                1.00  ...                        9.36   \n",
       "33                                1.00  ...                       10.15   \n",
       "34                                1.00  ...                       15.10   \n",
       "\n",
       "    Probability of precipitation jour5  Precipitation volume jour5  \\\n",
       "0                                 1.00                        2.74   \n",
       "1                                 1.00                        1.92   \n",
       "2                                 1.00                        2.02   \n",
       "3                                 1.00                        3.91   \n",
       "4                                 0.79                        1.27   \n",
       "5                                 1.00                        1.32   \n",
       "6                                 0.45                        0.76   \n",
       "7                                 1.00                        3.50   \n",
       "8                                 1.00                        1.74   \n",
       "9                                 1.00                        1.32   \n",
       "10                                1.00                        1.02   \n",
       "11                                1.00                        2.51   \n",
       "12                                1.00                        4.19   \n",
       "13                                1.00                        0.99   \n",
       "14                                0.86                        0.54   \n",
       "15                                0.00                        0.00   \n",
       "16                                0.00                        0.00   \n",
       "17                                0.00                        0.00   \n",
       "18                                0.00                        0.00   \n",
       "19                                0.00                        0.00   \n",
       "20                                0.00                        0.00   \n",
       "21                                0.00                        0.00   \n",
       "22                                0.00                        0.00   \n",
       "23                                0.00                        0.00   \n",
       "24                                0.00                        0.00   \n",
       "25                                0.00                        0.00   \n",
       "26                                0.00                        0.00   \n",
       "27                                0.00                        0.00   \n",
       "28                                0.00                        0.00   \n",
       "29                                0.59                        0.13   \n",
       "30                                0.76                        0.64   \n",
       "31                                1.00                        1.54   \n",
       "32                                1.00                        2.73   \n",
       "33                                1.00                        2.44   \n",
       "34                                1.00                        6.00   \n",
       "\n",
       "    Probability of precipitation jour6  Precipitation volume jour6  \\\n",
       "0                                 1.00                        2.97   \n",
       "1                                 1.00                        2.24   \n",
       "2                                 1.00                        0.62   \n",
       "3                                 1.00                        1.56   \n",
       "4                                 1.00                        1.09   \n",
       "5                                 0.00                        0.00   \n",
       "6                                 0.20                        0.12   \n",
       "7                                 0.00                        0.00   \n",
       "8                                 0.62                        0.23   \n",
       "9                                 0.72                        1.10   \n",
       "10                                0.51                        0.76   \n",
       "11                                0.59                        0.70   \n",
       "12                                1.00                        0.52   \n",
       "13                                0.35                        0.12   \n",
       "14                                1.00                        1.08   \n",
       "15                                1.00                        1.95   \n",
       "16                                1.00                        1.41   \n",
       "17                                0.00                        0.00   \n",
       "18                                0.00                        0.00   \n",
       "19                                0.00                        0.00   \n",
       "20                                0.00                        0.00   \n",
       "21                                0.00                        0.00   \n",
       "22                                0.00                        0.00   \n",
       "23                                0.00                        0.00   \n",
       "24                                0.00                        0.00   \n",
       "25                                0.00                        0.00   \n",
       "26                                0.00                        0.00   \n",
       "27                                0.00                        0.00   \n",
       "28                                0.00                        0.00   \n",
       "29                                0.00                        0.00   \n",
       "30                                0.00                        0.00   \n",
       "31                                0.00                        0.00   \n",
       "32                                0.99                        0.22   \n",
       "33                                0.93                        0.23   \n",
       "34                                1.00                        1.94   \n",
       "\n",
       "    Probability of precipitation jour7  Precipitation volume jour7  \\\n",
       "0                                 1.00                        9.73   \n",
       "1                                 1.00                        8.92   \n",
       "2                                 1.00                        7.31   \n",
       "3                                 1.00                        8.25   \n",
       "4                                 1.00                        7.69   \n",
       "5                                 1.00                        2.66   \n",
       "6                                 1.00                        4.83   \n",
       "7                                 1.00                        2.95   \n",
       "8                                 1.00                        0.61   \n",
       "9                                 0.91                        0.41   \n",
       "10                                0.59                        0.22   \n",
       "11                                0.57                        0.20   \n",
       "12                                1.00                        0.40   \n",
       "13                                1.00                        0.60   \n",
       "14                                0.85                        0.27   \n",
       "15                                0.27                        0.12   \n",
       "16                                0.00                        0.00   \n",
       "17                                0.28                        0.12   \n",
       "18                                0.00                        0.00   \n",
       "19                                1.00                        0.38   \n",
       "20                                1.00                        0.43   \n",
       "21                                1.00                        0.26   \n",
       "22                                0.00                        0.00   \n",
       "23                                0.00                        0.00   \n",
       "24                                0.00                        0.00   \n",
       "25                                0.29                        0.33   \n",
       "26                                0.20                        0.24   \n",
       "27                                0.26                        0.39   \n",
       "28                                1.00                        1.42   \n",
       "29                                1.00                        1.08   \n",
       "30                                1.00                        1.97   \n",
       "31                                1.00                        1.04   \n",
       "32                                1.00                        1.38   \n",
       "33                                1.00                        1.22   \n",
       "34                                1.00                        1.27   \n",
       "\n",
       "    Probability of precipitation jour8  Precipitation volume jour8  mean_rain  \n",
       "0                                 0.00                        0.00    4.86250  \n",
       "1                                 0.00                        0.00    8.55250  \n",
       "2                                 0.00                        0.00   12.58875  \n",
       "3                                 0.20                        0.15   19.34875  \n",
       "4                                 0.00                        0.00   23.57625  \n",
       "5                                 0.00                        0.00   26.38625  \n",
       "6                                 0.00                        0.00   30.01875  \n",
       "7                                 0.20                        0.12   33.40250  \n",
       "8                                 1.00                        1.37   35.58500  \n",
       "9                                 1.00                        2.19   39.40875  \n",
       "10                                1.00                        1.73   44.12375  \n",
       "11                                1.00                        1.48   49.46000  \n",
       "12                                1.00                        0.98   53.40250  \n",
       "13                                0.77                        0.29   56.67500  \n",
       "14                                1.00                        1.06   65.42000  \n",
       "15                                1.00                        1.28   69.39625  \n",
       "16                                1.00                        0.90   71.55125  \n",
       "17                                0.21                        0.11   73.48000  \n",
       "18                                0.20                        0.12   74.02625  \n",
       "19                                0.71                        0.27   74.50375  \n",
       "20                                0.97                        0.10   74.86875  \n",
       "21                                0.78                        0.00   75.46250  \n",
       "22                                0.00                        0.00   76.63125  \n",
       "23                                0.00                        0.00   77.75750  \n",
       "24                                0.00                        0.00   78.36625  \n",
       "25                                0.00                        0.00   78.63875  \n",
       "26                                0.20                        0.12   78.79250  \n",
       "27                                0.00                        0.00   79.11375  \n",
       "28                                0.52                        0.00   82.10125  \n",
       "29                                1.00                        0.13   83.72875  \n",
       "30                                0.20                        0.18   87.56750  \n",
       "31                                0.00                        0.00   94.42250  \n",
       "32                                0.00                        0.00  103.14625  \n",
       "33                                0.00                        0.00  112.22250  \n",
       "34                                0.00                        0.00  121.17000  \n",
       "\n",
       "[35 rows x 22 columns]"
      ]
     },
     "execution_count": 7,
     "metadata": {},
     "output_type": "execute_result"
    }
   ],
   "source": [
    "df.head(40)"
   ]
  },
  {
   "cell_type": "code",
   "execution_count": 8,
   "metadata": {},
   "outputs": [
    {
     "data": {
      "application/vnd.plotly.v1+json": {
       "config": {
        "plotlyServerURL": "https://plot.ly"
       },
       "data": [
        {
         "alignmentgroup": "True",
         "hovertemplate": "city=%{x}<br>mean_rain=%{y}<extra></extra>",
         "legendgroup": "Mont Saint Michel",
         "marker": {
          "color": "#636efa"
         },
         "name": "Mont Saint Michel",
         "offsetgroup": "Mont Saint Michel",
         "orientation": "v",
         "showlegend": true,
         "textposition": "auto",
         "type": "bar",
         "x": [
          "Mont Saint Michel"
         ],
         "xaxis": "x",
         "y": [
          4.862500000000001
         ],
         "yaxis": "y"
        },
        {
         "alignmentgroup": "True",
         "hovertemplate": "city=%{x}<br>mean_rain=%{y}<extra></extra>",
         "legendgroup": "St Malo",
         "marker": {
          "color": "#EF553B"
         },
         "name": "St Malo",
         "offsetgroup": "St Malo",
         "orientation": "v",
         "showlegend": true,
         "textposition": "auto",
         "type": "bar",
         "x": [
          "St Malo"
         ],
         "xaxis": "x",
         "y": [
          8.5525
         ],
         "yaxis": "y"
        },
        {
         "alignmentgroup": "True",
         "hovertemplate": "city=%{x}<br>mean_rain=%{y}<extra></extra>",
         "legendgroup": "Bayeux",
         "marker": {
          "color": "#00cc96"
         },
         "name": "Bayeux",
         "offsetgroup": "Bayeux",
         "orientation": "v",
         "showlegend": true,
         "textposition": "auto",
         "type": "bar",
         "x": [
          "Bayeux"
         ],
         "xaxis": "x",
         "y": [
          12.588750000000001
         ],
         "yaxis": "y"
        },
        {
         "alignmentgroup": "True",
         "hovertemplate": "city=%{x}<br>mean_rain=%{y}<extra></extra>",
         "legendgroup": "Le Havre",
         "marker": {
          "color": "#ab63fa"
         },
         "name": "Le Havre",
         "offsetgroup": "Le Havre",
         "orientation": "v",
         "showlegend": true,
         "textposition": "auto",
         "type": "bar",
         "x": [
          "Le Havre"
         ],
         "xaxis": "x",
         "y": [
          19.34875
         ],
         "yaxis": "y"
        },
        {
         "alignmentgroup": "True",
         "hovertemplate": "city=%{x}<br>mean_rain=%{y}<extra></extra>",
         "legendgroup": "Rouen",
         "marker": {
          "color": "#FFA15A"
         },
         "name": "Rouen",
         "offsetgroup": "Rouen",
         "orientation": "v",
         "showlegend": true,
         "textposition": "auto",
         "type": "bar",
         "x": [
          "Rouen"
         ],
         "xaxis": "x",
         "y": [
          23.57625
         ],
         "yaxis": "y"
        },
        {
         "alignmentgroup": "True",
         "hovertemplate": "city=%{x}<br>mean_rain=%{y}<extra></extra>",
         "legendgroup": "Paris",
         "marker": {
          "color": "#19d3f3"
         },
         "name": "Paris",
         "offsetgroup": "Paris",
         "orientation": "v",
         "showlegend": true,
         "textposition": "auto",
         "type": "bar",
         "x": [
          "Paris"
         ],
         "xaxis": "x",
         "y": [
          26.38625
         ],
         "yaxis": "y"
        },
        {
         "alignmentgroup": "True",
         "hovertemplate": "city=%{x}<br>mean_rain=%{y}<extra></extra>",
         "legendgroup": "Amiens",
         "marker": {
          "color": "#FF6692"
         },
         "name": "Amiens",
         "offsetgroup": "Amiens",
         "orientation": "v",
         "showlegend": true,
         "textposition": "auto",
         "type": "bar",
         "x": [
          "Amiens"
         ],
         "xaxis": "x",
         "y": [
          30.01875
         ],
         "yaxis": "y"
        },
        {
         "alignmentgroup": "True",
         "hovertemplate": "city=%{x}<br>mean_rain=%{y}<extra></extra>",
         "legendgroup": "Lille",
         "marker": {
          "color": "#B6E880"
         },
         "name": "Lille",
         "offsetgroup": "Lille",
         "orientation": "v",
         "showlegend": true,
         "textposition": "auto",
         "type": "bar",
         "x": [
          "Lille"
         ],
         "xaxis": "x",
         "y": [
          33.402499999999996
         ],
         "yaxis": "y"
        },
        {
         "alignmentgroup": "True",
         "hovertemplate": "city=%{x}<br>mean_rain=%{y}<extra></extra>",
         "legendgroup": "Strasbourg",
         "marker": {
          "color": "#FF97FF"
         },
         "name": "Strasbourg",
         "offsetgroup": "Strasbourg",
         "orientation": "v",
         "showlegend": true,
         "textposition": "auto",
         "type": "bar",
         "x": [
          "Strasbourg"
         ],
         "xaxis": "x",
         "y": [
          35.585
         ],
         "yaxis": "y"
        },
        {
         "alignmentgroup": "True",
         "hovertemplate": "city=%{x}<br>mean_rain=%{y}<extra></extra>",
         "legendgroup": "Chateau du Haut Koenigsbourg",
         "marker": {
          "color": "#FECB52"
         },
         "name": "Chateau du Haut Koenigsbourg",
         "offsetgroup": "Chateau du Haut Koenigsbourg",
         "orientation": "v",
         "showlegend": true,
         "textposition": "auto",
         "type": "bar",
         "x": [
          "Chateau du Haut Koenigsbourg"
         ],
         "xaxis": "x",
         "y": [
          39.408750000000005
         ],
         "yaxis": "y"
        },
        {
         "alignmentgroup": "True",
         "hovertemplate": "city=%{x}<br>mean_rain=%{y}<extra></extra>",
         "legendgroup": "Colmar",
         "marker": {
          "color": "#636efa"
         },
         "name": "Colmar",
         "offsetgroup": "Colmar",
         "orientation": "v",
         "showlegend": true,
         "textposition": "auto",
         "type": "bar",
         "x": [
          "Colmar"
         ],
         "xaxis": "x",
         "y": [
          44.12375000000001
         ],
         "yaxis": "y"
        },
        {
         "alignmentgroup": "True",
         "hovertemplate": "city=%{x}<br>mean_rain=%{y}<extra></extra>",
         "legendgroup": "Eguisheim",
         "marker": {
          "color": "#EF553B"
         },
         "name": "Eguisheim",
         "offsetgroup": "Eguisheim",
         "orientation": "v",
         "showlegend": true,
         "textposition": "auto",
         "type": "bar",
         "x": [
          "Eguisheim"
         ],
         "xaxis": "x",
         "y": [
          49.46
         ],
         "yaxis": "y"
        },
        {
         "alignmentgroup": "True",
         "hovertemplate": "city=%{x}<br>mean_rain=%{y}<extra></extra>",
         "legendgroup": "Besancon",
         "marker": {
          "color": "#00cc96"
         },
         "name": "Besancon",
         "offsetgroup": "Besancon",
         "orientation": "v",
         "showlegend": true,
         "textposition": "auto",
         "type": "bar",
         "x": [
          "Besancon"
         ],
         "xaxis": "x",
         "y": [
          53.4025
         ],
         "yaxis": "y"
        },
        {
         "alignmentgroup": "True",
         "hovertemplate": "city=%{x}<br>mean_rain=%{y}<extra></extra>",
         "legendgroup": "Dijon",
         "marker": {
          "color": "#ab63fa"
         },
         "name": "Dijon",
         "offsetgroup": "Dijon",
         "orientation": "v",
         "showlegend": true,
         "textposition": "auto",
         "type": "bar",
         "x": [
          "Dijon"
         ],
         "xaxis": "x",
         "y": [
          56.675000000000004
         ],
         "yaxis": "y"
        },
        {
         "alignmentgroup": "True",
         "hovertemplate": "city=%{x}<br>mean_rain=%{y}<extra></extra>",
         "legendgroup": "Annecy",
         "marker": {
          "color": "#FFA15A"
         },
         "name": "Annecy",
         "offsetgroup": "Annecy",
         "orientation": "v",
         "showlegend": true,
         "textposition": "auto",
         "type": "bar",
         "x": [
          "Annecy"
         ],
         "xaxis": "x",
         "y": [
          65.42
         ],
         "yaxis": "y"
        },
        {
         "alignmentgroup": "True",
         "hovertemplate": "city=%{x}<br>mean_rain=%{y}<extra></extra>",
         "legendgroup": "Grenoble",
         "marker": {
          "color": "#19d3f3"
         },
         "name": "Grenoble",
         "offsetgroup": "Grenoble",
         "orientation": "v",
         "showlegend": true,
         "textposition": "auto",
         "type": "bar",
         "x": [
          "Grenoble"
         ],
         "xaxis": "x",
         "y": [
          69.39625000000001
         ],
         "yaxis": "y"
        },
        {
         "alignmentgroup": "True",
         "hovertemplate": "city=%{x}<br>mean_rain=%{y}<extra></extra>",
         "legendgroup": "Lyon",
         "marker": {
          "color": "#FF6692"
         },
         "name": "Lyon",
         "offsetgroup": "Lyon",
         "orientation": "v",
         "showlegend": true,
         "textposition": "auto",
         "type": "bar",
         "x": [
          "Lyon"
         ],
         "xaxis": "x",
         "y": [
          71.55125
         ],
         "yaxis": "y"
        },
        {
         "alignmentgroup": "True",
         "hovertemplate": "city=%{x}<br>mean_rain=%{y}<extra></extra>",
         "legendgroup": "Gorges du Verdon",
         "marker": {
          "color": "#B6E880"
         },
         "name": "Gorges du Verdon",
         "offsetgroup": "Gorges du Verdon",
         "orientation": "v",
         "showlegend": true,
         "textposition": "auto",
         "type": "bar",
         "x": [
          "Gorges du Verdon"
         ],
         "xaxis": "x",
         "y": [
          73.48
         ],
         "yaxis": "y"
        },
        {
         "alignmentgroup": "True",
         "hovertemplate": "city=%{x}<br>mean_rain=%{y}<extra></extra>",
         "legendgroup": "Bormes les Mimosas",
         "marker": {
          "color": "#FF97FF"
         },
         "name": "Bormes les Mimosas",
         "offsetgroup": "Bormes les Mimosas",
         "orientation": "v",
         "showlegend": true,
         "textposition": "auto",
         "type": "bar",
         "x": [
          "Bormes les Mimosas"
         ],
         "xaxis": "x",
         "y": [
          74.02625
         ],
         "yaxis": "y"
        },
        {
         "alignmentgroup": "True",
         "hovertemplate": "city=%{x}<br>mean_rain=%{y}<extra></extra>",
         "legendgroup": "Cassis",
         "marker": {
          "color": "#FECB52"
         },
         "name": "Cassis",
         "offsetgroup": "Cassis",
         "orientation": "v",
         "showlegend": true,
         "textposition": "auto",
         "type": "bar",
         "x": [
          "Cassis"
         ],
         "xaxis": "x",
         "y": [
          74.50375000000001
         ],
         "yaxis": "y"
        },
        {
         "alignmentgroup": "True",
         "hovertemplate": "city=%{x}<br>mean_rain=%{y}<extra></extra>",
         "legendgroup": "Marseille",
         "marker": {
          "color": "#636efa"
         },
         "name": "Marseille",
         "offsetgroup": "Marseille",
         "orientation": "v",
         "showlegend": true,
         "textposition": "auto",
         "type": "bar",
         "x": [
          "Marseille"
         ],
         "xaxis": "x",
         "y": [
          74.86875
         ],
         "yaxis": "y"
        },
        {
         "alignmentgroup": "True",
         "hovertemplate": "city=%{x}<br>mean_rain=%{y}<extra></extra>",
         "legendgroup": "Aix en Provence",
         "marker": {
          "color": "#EF553B"
         },
         "name": "Aix en Provence",
         "offsetgroup": "Aix en Provence",
         "orientation": "v",
         "showlegend": true,
         "textposition": "auto",
         "type": "bar",
         "x": [
          "Aix en Provence"
         ],
         "xaxis": "x",
         "y": [
          75.46249999999999
         ],
         "yaxis": "y"
        },
        {
         "alignmentgroup": "True",
         "hovertemplate": "city=%{x}<br>mean_rain=%{y}<extra></extra>",
         "legendgroup": "Avignon",
         "marker": {
          "color": "#00cc96"
         },
         "name": "Avignon",
         "offsetgroup": "Avignon",
         "orientation": "v",
         "showlegend": true,
         "textposition": "auto",
         "type": "bar",
         "x": [
          "Avignon"
         ],
         "xaxis": "x",
         "y": [
          76.63125
         ],
         "yaxis": "y"
        },
        {
         "alignmentgroup": "True",
         "hovertemplate": "city=%{x}<br>mean_rain=%{y}<extra></extra>",
         "legendgroup": "Uzes",
         "marker": {
          "color": "#ab63fa"
         },
         "name": "Uzes",
         "offsetgroup": "Uzes",
         "orientation": "v",
         "showlegend": true,
         "textposition": "auto",
         "type": "bar",
         "x": [
          "Uzes"
         ],
         "xaxis": "x",
         "y": [
          77.7575
         ],
         "yaxis": "y"
        },
        {
         "alignmentgroup": "True",
         "hovertemplate": "city=%{x}<br>mean_rain=%{y}<extra></extra>",
         "legendgroup": "Nimes",
         "marker": {
          "color": "#FFA15A"
         },
         "name": "Nimes",
         "offsetgroup": "Nimes",
         "orientation": "v",
         "showlegend": true,
         "textposition": "auto",
         "type": "bar",
         "x": [
          "Nimes"
         ],
         "xaxis": "x",
         "y": [
          78.36625
         ],
         "yaxis": "y"
        },
        {
         "alignmentgroup": "True",
         "hovertemplate": "city=%{x}<br>mean_rain=%{y}<extra></extra>",
         "legendgroup": "Aigues Mortes",
         "marker": {
          "color": "#19d3f3"
         },
         "name": "Aigues Mortes",
         "offsetgroup": "Aigues Mortes",
         "orientation": "v",
         "showlegend": true,
         "textposition": "auto",
         "type": "bar",
         "x": [
          "Aigues Mortes"
         ],
         "xaxis": "x",
         "y": [
          78.63875
         ],
         "yaxis": "y"
        },
        {
         "alignmentgroup": "True",
         "hovertemplate": "city=%{x}<br>mean_rain=%{y}<extra></extra>",
         "legendgroup": "Saintes Maries de la mer",
         "marker": {
          "color": "#FF6692"
         },
         "name": "Saintes Maries de la mer",
         "offsetgroup": "Saintes Maries de la mer",
         "orientation": "v",
         "showlegend": true,
         "textposition": "auto",
         "type": "bar",
         "x": [
          "Saintes Maries de la mer"
         ],
         "xaxis": "x",
         "y": [
          78.7925
         ],
         "yaxis": "y"
        },
        {
         "alignmentgroup": "True",
         "hovertemplate": "city=%{x}<br>mean_rain=%{y}<extra></extra>",
         "legendgroup": "Collioure",
         "marker": {
          "color": "#B6E880"
         },
         "name": "Collioure",
         "offsetgroup": "Collioure",
         "orientation": "v",
         "showlegend": true,
         "textposition": "auto",
         "type": "bar",
         "x": [
          "Collioure"
         ],
         "xaxis": "x",
         "y": [
          79.11375000000001
         ],
         "yaxis": "y"
        },
        {
         "alignmentgroup": "True",
         "hovertemplate": "city=%{x}<br>mean_rain=%{y}<extra></extra>",
         "legendgroup": "Carcassonne",
         "marker": {
          "color": "#FF97FF"
         },
         "name": "Carcassonne",
         "offsetgroup": "Carcassonne",
         "orientation": "v",
         "showlegend": true,
         "textposition": "auto",
         "type": "bar",
         "x": [
          "Carcassonne"
         ],
         "xaxis": "x",
         "y": [
          82.10125000000001
         ],
         "yaxis": "y"
        },
        {
         "alignmentgroup": "True",
         "hovertemplate": "city=%{x}<br>mean_rain=%{y}<extra></extra>",
         "legendgroup": "Ariege",
         "marker": {
          "color": "#FECB52"
         },
         "name": "Ariege",
         "offsetgroup": "Ariege",
         "orientation": "v",
         "showlegend": true,
         "textposition": "auto",
         "type": "bar",
         "x": [
          "Ariege"
         ],
         "xaxis": "x",
         "y": [
          83.72875000000002
         ],
         "yaxis": "y"
        },
        {
         "alignmentgroup": "True",
         "hovertemplate": "city=%{x}<br>mean_rain=%{y}<extra></extra>",
         "legendgroup": "Toulouse",
         "marker": {
          "color": "#636efa"
         },
         "name": "Toulouse",
         "offsetgroup": "Toulouse",
         "orientation": "v",
         "showlegend": true,
         "textposition": "auto",
         "type": "bar",
         "x": [
          "Toulouse"
         ],
         "xaxis": "x",
         "y": [
          87.56750000000002
         ],
         "yaxis": "y"
        },
        {
         "alignmentgroup": "True",
         "hovertemplate": "city=%{x}<br>mean_rain=%{y}<extra></extra>",
         "legendgroup": "Montauban",
         "marker": {
          "color": "#EF553B"
         },
         "name": "Montauban",
         "offsetgroup": "Montauban",
         "orientation": "v",
         "showlegend": true,
         "textposition": "auto",
         "type": "bar",
         "x": [
          "Montauban"
         ],
         "xaxis": "x",
         "y": [
          94.42250000000001
         ],
         "yaxis": "y"
        },
        {
         "alignmentgroup": "True",
         "hovertemplate": "city=%{x}<br>mean_rain=%{y}<extra></extra>",
         "legendgroup": "Biarritz",
         "marker": {
          "color": "#00cc96"
         },
         "name": "Biarritz",
         "offsetgroup": "Biarritz",
         "orientation": "v",
         "showlegend": true,
         "textposition": "auto",
         "type": "bar",
         "x": [
          "Biarritz"
         ],
         "xaxis": "x",
         "y": [
          103.14625000000002
         ],
         "yaxis": "y"
        },
        {
         "alignmentgroup": "True",
         "hovertemplate": "city=%{x}<br>mean_rain=%{y}<extra></extra>",
         "legendgroup": "Bayonne",
         "marker": {
          "color": "#ab63fa"
         },
         "name": "Bayonne",
         "offsetgroup": "Bayonne",
         "orientation": "v",
         "showlegend": true,
         "textposition": "auto",
         "type": "bar",
         "x": [
          "Bayonne"
         ],
         "xaxis": "x",
         "y": [
          112.22250000000004
         ],
         "yaxis": "y"
        },
        {
         "alignmentgroup": "True",
         "hovertemplate": "city=%{x}<br>mean_rain=%{y}<extra></extra>",
         "legendgroup": "La Rochelle",
         "marker": {
          "color": "#FFA15A"
         },
         "name": "La Rochelle",
         "offsetgroup": "La Rochelle",
         "orientation": "v",
         "showlegend": true,
         "textposition": "auto",
         "type": "bar",
         "x": [
          "La Rochelle"
         ],
         "xaxis": "x",
         "y": [
          121.17000000000003
         ],
         "yaxis": "y"
        }
       ],
       "layout": {
        "barmode": "relative",
        "legend": {
         "title": {
          "text": "city"
         },
         "tracegroupgap": 0
        },
        "margin": {
         "t": 60
        },
        "template": {
         "data": {
          "bar": [
           {
            "error_x": {
             "color": "#2a3f5f"
            },
            "error_y": {
             "color": "#2a3f5f"
            },
            "marker": {
             "line": {
              "color": "#E5ECF6",
              "width": 0.5
             }
            },
            "type": "bar"
           }
          ],
          "barpolar": [
           {
            "marker": {
             "line": {
              "color": "#E5ECF6",
              "width": 0.5
             }
            },
            "type": "barpolar"
           }
          ],
          "carpet": [
           {
            "aaxis": {
             "endlinecolor": "#2a3f5f",
             "gridcolor": "white",
             "linecolor": "white",
             "minorgridcolor": "white",
             "startlinecolor": "#2a3f5f"
            },
            "baxis": {
             "endlinecolor": "#2a3f5f",
             "gridcolor": "white",
             "linecolor": "white",
             "minorgridcolor": "white",
             "startlinecolor": "#2a3f5f"
            },
            "type": "carpet"
           }
          ],
          "choropleth": [
           {
            "colorbar": {
             "outlinewidth": 0,
             "ticks": ""
            },
            "type": "choropleth"
           }
          ],
          "contour": [
           {
            "colorbar": {
             "outlinewidth": 0,
             "ticks": ""
            },
            "colorscale": [
             [
              0,
              "#0d0887"
             ],
             [
              0.1111111111111111,
              "#46039f"
             ],
             [
              0.2222222222222222,
              "#7201a8"
             ],
             [
              0.3333333333333333,
              "#9c179e"
             ],
             [
              0.4444444444444444,
              "#bd3786"
             ],
             [
              0.5555555555555556,
              "#d8576b"
             ],
             [
              0.6666666666666666,
              "#ed7953"
             ],
             [
              0.7777777777777778,
              "#fb9f3a"
             ],
             [
              0.8888888888888888,
              "#fdca26"
             ],
             [
              1,
              "#f0f921"
             ]
            ],
            "type": "contour"
           }
          ],
          "contourcarpet": [
           {
            "colorbar": {
             "outlinewidth": 0,
             "ticks": ""
            },
            "type": "contourcarpet"
           }
          ],
          "heatmap": [
           {
            "colorbar": {
             "outlinewidth": 0,
             "ticks": ""
            },
            "colorscale": [
             [
              0,
              "#0d0887"
             ],
             [
              0.1111111111111111,
              "#46039f"
             ],
             [
              0.2222222222222222,
              "#7201a8"
             ],
             [
              0.3333333333333333,
              "#9c179e"
             ],
             [
              0.4444444444444444,
              "#bd3786"
             ],
             [
              0.5555555555555556,
              "#d8576b"
             ],
             [
              0.6666666666666666,
              "#ed7953"
             ],
             [
              0.7777777777777778,
              "#fb9f3a"
             ],
             [
              0.8888888888888888,
              "#fdca26"
             ],
             [
              1,
              "#f0f921"
             ]
            ],
            "type": "heatmap"
           }
          ],
          "heatmapgl": [
           {
            "colorbar": {
             "outlinewidth": 0,
             "ticks": ""
            },
            "colorscale": [
             [
              0,
              "#0d0887"
             ],
             [
              0.1111111111111111,
              "#46039f"
             ],
             [
              0.2222222222222222,
              "#7201a8"
             ],
             [
              0.3333333333333333,
              "#9c179e"
             ],
             [
              0.4444444444444444,
              "#bd3786"
             ],
             [
              0.5555555555555556,
              "#d8576b"
             ],
             [
              0.6666666666666666,
              "#ed7953"
             ],
             [
              0.7777777777777778,
              "#fb9f3a"
             ],
             [
              0.8888888888888888,
              "#fdca26"
             ],
             [
              1,
              "#f0f921"
             ]
            ],
            "type": "heatmapgl"
           }
          ],
          "histogram": [
           {
            "marker": {
             "colorbar": {
              "outlinewidth": 0,
              "ticks": ""
             }
            },
            "type": "histogram"
           }
          ],
          "histogram2d": [
           {
            "colorbar": {
             "outlinewidth": 0,
             "ticks": ""
            },
            "colorscale": [
             [
              0,
              "#0d0887"
             ],
             [
              0.1111111111111111,
              "#46039f"
             ],
             [
              0.2222222222222222,
              "#7201a8"
             ],
             [
              0.3333333333333333,
              "#9c179e"
             ],
             [
              0.4444444444444444,
              "#bd3786"
             ],
             [
              0.5555555555555556,
              "#d8576b"
             ],
             [
              0.6666666666666666,
              "#ed7953"
             ],
             [
              0.7777777777777778,
              "#fb9f3a"
             ],
             [
              0.8888888888888888,
              "#fdca26"
             ],
             [
              1,
              "#f0f921"
             ]
            ],
            "type": "histogram2d"
           }
          ],
          "histogram2dcontour": [
           {
            "colorbar": {
             "outlinewidth": 0,
             "ticks": ""
            },
            "colorscale": [
             [
              0,
              "#0d0887"
             ],
             [
              0.1111111111111111,
              "#46039f"
             ],
             [
              0.2222222222222222,
              "#7201a8"
             ],
             [
              0.3333333333333333,
              "#9c179e"
             ],
             [
              0.4444444444444444,
              "#bd3786"
             ],
             [
              0.5555555555555556,
              "#d8576b"
             ],
             [
              0.6666666666666666,
              "#ed7953"
             ],
             [
              0.7777777777777778,
              "#fb9f3a"
             ],
             [
              0.8888888888888888,
              "#fdca26"
             ],
             [
              1,
              "#f0f921"
             ]
            ],
            "type": "histogram2dcontour"
           }
          ],
          "mesh3d": [
           {
            "colorbar": {
             "outlinewidth": 0,
             "ticks": ""
            },
            "type": "mesh3d"
           }
          ],
          "parcoords": [
           {
            "line": {
             "colorbar": {
              "outlinewidth": 0,
              "ticks": ""
             }
            },
            "type": "parcoords"
           }
          ],
          "pie": [
           {
            "automargin": true,
            "type": "pie"
           }
          ],
          "scatter": [
           {
            "marker": {
             "colorbar": {
              "outlinewidth": 0,
              "ticks": ""
             }
            },
            "type": "scatter"
           }
          ],
          "scatter3d": [
           {
            "line": {
             "colorbar": {
              "outlinewidth": 0,
              "ticks": ""
             }
            },
            "marker": {
             "colorbar": {
              "outlinewidth": 0,
              "ticks": ""
             }
            },
            "type": "scatter3d"
           }
          ],
          "scattercarpet": [
           {
            "marker": {
             "colorbar": {
              "outlinewidth": 0,
              "ticks": ""
             }
            },
            "type": "scattercarpet"
           }
          ],
          "scattergeo": [
           {
            "marker": {
             "colorbar": {
              "outlinewidth": 0,
              "ticks": ""
             }
            },
            "type": "scattergeo"
           }
          ],
          "scattergl": [
           {
            "marker": {
             "colorbar": {
              "outlinewidth": 0,
              "ticks": ""
             }
            },
            "type": "scattergl"
           }
          ],
          "scattermapbox": [
           {
            "marker": {
             "colorbar": {
              "outlinewidth": 0,
              "ticks": ""
             }
            },
            "type": "scattermapbox"
           }
          ],
          "scatterpolar": [
           {
            "marker": {
             "colorbar": {
              "outlinewidth": 0,
              "ticks": ""
             }
            },
            "type": "scatterpolar"
           }
          ],
          "scatterpolargl": [
           {
            "marker": {
             "colorbar": {
              "outlinewidth": 0,
              "ticks": ""
             }
            },
            "type": "scatterpolargl"
           }
          ],
          "scatterternary": [
           {
            "marker": {
             "colorbar": {
              "outlinewidth": 0,
              "ticks": ""
             }
            },
            "type": "scatterternary"
           }
          ],
          "surface": [
           {
            "colorbar": {
             "outlinewidth": 0,
             "ticks": ""
            },
            "colorscale": [
             [
              0,
              "#0d0887"
             ],
             [
              0.1111111111111111,
              "#46039f"
             ],
             [
              0.2222222222222222,
              "#7201a8"
             ],
             [
              0.3333333333333333,
              "#9c179e"
             ],
             [
              0.4444444444444444,
              "#bd3786"
             ],
             [
              0.5555555555555556,
              "#d8576b"
             ],
             [
              0.6666666666666666,
              "#ed7953"
             ],
             [
              0.7777777777777778,
              "#fb9f3a"
             ],
             [
              0.8888888888888888,
              "#fdca26"
             ],
             [
              1,
              "#f0f921"
             ]
            ],
            "type": "surface"
           }
          ],
          "table": [
           {
            "cells": {
             "fill": {
              "color": "#EBF0F8"
             },
             "line": {
              "color": "white"
             }
            },
            "header": {
             "fill": {
              "color": "#C8D4E3"
             },
             "line": {
              "color": "white"
             }
            },
            "type": "table"
           }
          ]
         },
         "layout": {
          "annotationdefaults": {
           "arrowcolor": "#2a3f5f",
           "arrowhead": 0,
           "arrowwidth": 1
          },
          "coloraxis": {
           "colorbar": {
            "outlinewidth": 0,
            "ticks": ""
           }
          },
          "colorscale": {
           "diverging": [
            [
             0,
             "#8e0152"
            ],
            [
             0.1,
             "#c51b7d"
            ],
            [
             0.2,
             "#de77ae"
            ],
            [
             0.3,
             "#f1b6da"
            ],
            [
             0.4,
             "#fde0ef"
            ],
            [
             0.5,
             "#f7f7f7"
            ],
            [
             0.6,
             "#e6f5d0"
            ],
            [
             0.7,
             "#b8e186"
            ],
            [
             0.8,
             "#7fbc41"
            ],
            [
             0.9,
             "#4d9221"
            ],
            [
             1,
             "#276419"
            ]
           ],
           "sequential": [
            [
             0,
             "#0d0887"
            ],
            [
             0.1111111111111111,
             "#46039f"
            ],
            [
             0.2222222222222222,
             "#7201a8"
            ],
            [
             0.3333333333333333,
             "#9c179e"
            ],
            [
             0.4444444444444444,
             "#bd3786"
            ],
            [
             0.5555555555555556,
             "#d8576b"
            ],
            [
             0.6666666666666666,
             "#ed7953"
            ],
            [
             0.7777777777777778,
             "#fb9f3a"
            ],
            [
             0.8888888888888888,
             "#fdca26"
            ],
            [
             1,
             "#f0f921"
            ]
           ],
           "sequentialminus": [
            [
             0,
             "#0d0887"
            ],
            [
             0.1111111111111111,
             "#46039f"
            ],
            [
             0.2222222222222222,
             "#7201a8"
            ],
            [
             0.3333333333333333,
             "#9c179e"
            ],
            [
             0.4444444444444444,
             "#bd3786"
            ],
            [
             0.5555555555555556,
             "#d8576b"
            ],
            [
             0.6666666666666666,
             "#ed7953"
            ],
            [
             0.7777777777777778,
             "#fb9f3a"
            ],
            [
             0.8888888888888888,
             "#fdca26"
            ],
            [
             1,
             "#f0f921"
            ]
           ]
          },
          "colorway": [
           "#636efa",
           "#EF553B",
           "#00cc96",
           "#ab63fa",
           "#FFA15A",
           "#19d3f3",
           "#FF6692",
           "#B6E880",
           "#FF97FF",
           "#FECB52"
          ],
          "font": {
           "color": "#2a3f5f"
          },
          "geo": {
           "bgcolor": "white",
           "lakecolor": "white",
           "landcolor": "#E5ECF6",
           "showlakes": true,
           "showland": true,
           "subunitcolor": "white"
          },
          "hoverlabel": {
           "align": "left"
          },
          "hovermode": "closest",
          "mapbox": {
           "style": "light"
          },
          "paper_bgcolor": "white",
          "plot_bgcolor": "#E5ECF6",
          "polar": {
           "angularaxis": {
            "gridcolor": "white",
            "linecolor": "white",
            "ticks": ""
           },
           "bgcolor": "#E5ECF6",
           "radialaxis": {
            "gridcolor": "white",
            "linecolor": "white",
            "ticks": ""
           }
          },
          "scene": {
           "xaxis": {
            "backgroundcolor": "#E5ECF6",
            "gridcolor": "white",
            "gridwidth": 2,
            "linecolor": "white",
            "showbackground": true,
            "ticks": "",
            "zerolinecolor": "white"
           },
           "yaxis": {
            "backgroundcolor": "#E5ECF6",
            "gridcolor": "white",
            "gridwidth": 2,
            "linecolor": "white",
            "showbackground": true,
            "ticks": "",
            "zerolinecolor": "white"
           },
           "zaxis": {
            "backgroundcolor": "#E5ECF6",
            "gridcolor": "white",
            "gridwidth": 2,
            "linecolor": "white",
            "showbackground": true,
            "ticks": "",
            "zerolinecolor": "white"
           }
          },
          "shapedefaults": {
           "line": {
            "color": "#2a3f5f"
           }
          },
          "ternary": {
           "aaxis": {
            "gridcolor": "white",
            "linecolor": "white",
            "ticks": ""
           },
           "baxis": {
            "gridcolor": "white",
            "linecolor": "white",
            "ticks": ""
           },
           "bgcolor": "#E5ECF6",
           "caxis": {
            "gridcolor": "white",
            "linecolor": "white",
            "ticks": ""
           }
          },
          "title": {
           "x": 0.05
          },
          "xaxis": {
           "automargin": true,
           "gridcolor": "white",
           "linecolor": "white",
           "ticks": "",
           "title": {
            "standoff": 15
           },
           "zerolinecolor": "white",
           "zerolinewidth": 2
          },
          "yaxis": {
           "automargin": true,
           "gridcolor": "white",
           "linecolor": "white",
           "ticks": "",
           "title": {
            "standoff": 15
           },
           "zerolinecolor": "white",
           "zerolinewidth": 2
          }
         }
        },
        "xaxis": {
         "anchor": "y",
         "categoryarray": [
          "Mont Saint Michel",
          "St Malo",
          "Bayeux",
          "Le Havre",
          "Rouen",
          "Paris",
          "Amiens",
          "Lille",
          "Strasbourg",
          "Chateau du Haut Koenigsbourg",
          "Colmar",
          "Eguisheim",
          "Besancon",
          "Dijon",
          "Annecy",
          "Grenoble",
          "Lyon",
          "Gorges du Verdon",
          "Bormes les Mimosas",
          "Cassis",
          "Marseille",
          "Aix en Provence",
          "Avignon",
          "Uzes",
          "Nimes",
          "Aigues Mortes",
          "Saintes Maries de la mer",
          "Collioure",
          "Carcassonne",
          "Ariege",
          "Toulouse",
          "Montauban",
          "Biarritz",
          "Bayonne",
          "La Rochelle"
         ],
         "categoryorder": "array",
         "domain": [
          0,
          1
         ],
         "title": {
          "text": "city"
         }
        },
        "yaxis": {
         "anchor": "x",
         "domain": [
          0,
          1
         ],
         "title": {
          "text": "mean_rain"
         }
        }
       }
      }
     },
     "metadata": {},
     "output_type": "display_data"
    }
   ],
   "source": [
    "#Classement des villes selon la moyenne de précipitation des 8 jours qui arrivent:\n",
    "fig2=px.bar(data_frame=df, x='city',y='mean_rain',color='city')\n",
    "fig2.show()"
   ]
  },
  {
   "cell_type": "code",
   "execution_count": 9,
   "metadata": {},
   "outputs": [
    {
     "data": {
      "application/vnd.plotly.v1+json": {
       "config": {
        "plotlyServerURL": "https://plot.ly"
       },
       "data": [
        {
         "customdata": [
          [
           48.6359541,
           -1.511459954959514
          ],
          [
           48.649518,
           -2.0260409
          ],
          [
           49.2764624,
           -0.7024738
          ],
          [
           49.4938975,
           0.1079732
          ],
          [
           49.4404591,
           1.0939658
          ],
          [
           48.8588897,
           2.3200410217200766
          ],
          [
           49.8941708,
           2.2956951
          ],
          [
           50.6365654,
           3.0635282
          ],
          [
           48.584614,
           7.7507127
          ],
          [
           48.249489800000006,
           7.34429620253195
          ],
          [
           48.0777517,
           7.3579641
          ],
          [
           48.0447968,
           7.3079618
          ],
          [
           47.2380222,
           6.0243622
          ],
          [
           47.3215806,
           5.0414701
          ],
          [
           45.8992348,
           6.1288847
          ],
          [
           45.1875602,
           5.7357819
          ],
          [
           45.7578137,
           4.8320114
          ],
          [
           43.7496562,
           6.3285616
          ],
          [
           43.1506968,
           6.3419285
          ],
          [
           43.2140359,
           5.5396318
          ],
          [
           43.2961743,
           5.3699525
          ],
          [
           43.5298424,
           5.4474738
          ],
          [
           43.9492493,
           4.8059012
          ],
          [
           44.0121279,
           4.4196718
          ],
          [
           43.8374249,
           4.3600687
          ],
          [
           43.5661521,
           4.19154
          ],
          [
           43.4515922,
           4.4277202
          ],
          [
           42.52505,
           3.0831554
          ],
          [
           43.2130358,
           2.3491069
          ],
          [
           42.9455368,
           1.4065544156065486
          ],
          [
           43.6044622,
           1.4442469
          ],
          [
           44.0175835,
           1.3549991
          ],
          [
           43.4832523,
           -1.5592776
          ],
          [
           43.4945144,
           -1.4736657
          ],
          [
           46.1591126,
           -1.1520434
          ]
         ],
         "hovertemplate": "<b>%{hovertext}</b><br><br>mean_rain=%{marker.color}<extra></extra>",
         "hovertext": [
          "Mont Saint Michel",
          "St Malo",
          "Bayeux",
          "Le Havre",
          "Rouen",
          "Paris",
          "Amiens",
          "Lille",
          "Strasbourg",
          "Chateau du Haut Koenigsbourg",
          "Colmar",
          "Eguisheim",
          "Besancon",
          "Dijon",
          "Annecy",
          "Grenoble",
          "Lyon",
          "Gorges du Verdon",
          "Bormes les Mimosas",
          "Cassis",
          "Marseille",
          "Aix en Provence",
          "Avignon",
          "Uzes",
          "Nimes",
          "Aigues Mortes",
          "Saintes Maries de la mer",
          "Collioure",
          "Carcassonne",
          "Ariege",
          "Toulouse",
          "Montauban",
          "Biarritz",
          "Bayonne",
          "La Rochelle"
         ],
         "lat": [
          48.6359541,
          48.649518,
          49.2764624,
          49.4938975,
          49.4404591,
          48.8588897,
          49.8941708,
          50.6365654,
          48.584614,
          48.249489800000006,
          48.0777517,
          48.0447968,
          47.2380222,
          47.3215806,
          45.8992348,
          45.1875602,
          45.7578137,
          43.7496562,
          43.1506968,
          43.2140359,
          43.2961743,
          43.5298424,
          43.9492493,
          44.0121279,
          43.8374249,
          43.5661521,
          43.4515922,
          42.52505,
          43.2130358,
          42.9455368,
          43.6044622,
          44.0175835,
          43.4832523,
          43.4945144,
          46.1591126
         ],
         "legendgroup": "",
         "lon": [
          -1.511459954959514,
          -2.0260409,
          -0.7024738,
          0.1079732,
          1.0939658,
          2.3200410217200766,
          2.2956951,
          3.0635282,
          7.7507127,
          7.34429620253195,
          7.3579641,
          7.3079618,
          6.0243622,
          5.0414701,
          6.1288847,
          5.7357819,
          4.8320114,
          6.3285616,
          6.3419285,
          5.5396318,
          5.3699525,
          5.4474738,
          4.8059012,
          4.4196718,
          4.3600687,
          4.19154,
          4.4277202,
          3.0831554,
          2.3491069,
          1.4065544156065486,
          1.4442469,
          1.3549991,
          -1.5592776,
          -1.4736657,
          -1.1520434
         ],
         "marker": {
          "color": [
           4.862500000000001,
           8.5525,
           12.588750000000001,
           19.34875,
           23.57625,
           26.38625,
           30.01875,
           33.402499999999996,
           35.585,
           39.408750000000005,
           44.12375000000001,
           49.46,
           53.4025,
           56.675000000000004,
           65.42,
           69.39625000000001,
           71.55125,
           73.48,
           74.02625,
           74.50375000000001,
           74.86875,
           75.46249999999999,
           76.63125,
           77.7575,
           78.36625,
           78.63875,
           78.7925,
           79.11375000000001,
           82.10125000000001,
           83.72875000000002,
           87.56750000000002,
           94.42250000000001,
           103.14625000000002,
           112.22250000000004,
           121.17000000000003
          ],
          "coloraxis": "coloraxis",
          "size": [
           4.862500000000001,
           8.5525,
           12.588750000000001,
           19.34875,
           23.57625,
           26.38625,
           30.01875,
           33.402499999999996,
           35.585,
           39.408750000000005,
           44.12375000000001,
           49.46,
           53.4025,
           56.675000000000004,
           65.42,
           69.39625000000001,
           71.55125,
           73.48,
           74.02625,
           74.50375000000001,
           74.86875,
           75.46249999999999,
           76.63125,
           77.7575,
           78.36625,
           78.63875,
           78.7925,
           79.11375000000001,
           82.10125000000001,
           83.72875000000002,
           87.56750000000002,
           94.42250000000001,
           103.14625000000002,
           112.22250000000004,
           121.17000000000003
          ],
          "sizemode": "area",
          "sizeref": 0.30292500000000006
         },
         "mode": "markers",
         "name": "",
         "showlegend": false,
         "subplot": "mapbox",
         "type": "scattermapbox"
        }
       ],
       "layout": {
        "coloraxis": {
         "colorbar": {
          "title": {
           "text": "mean_rain"
          }
         },
         "colorscale": [
          [
           0,
           "#0d0887"
          ],
          [
           0.1111111111111111,
           "#46039f"
          ],
          [
           0.2222222222222222,
           "#7201a8"
          ],
          [
           0.3333333333333333,
           "#9c179e"
          ],
          [
           0.4444444444444444,
           "#bd3786"
          ],
          [
           0.5555555555555556,
           "#d8576b"
          ],
          [
           0.6666666666666666,
           "#ed7953"
          ],
          [
           0.7777777777777778,
           "#fb9f3a"
          ],
          [
           0.8888888888888888,
           "#fdca26"
          ],
          [
           1,
           "#f0f921"
          ]
         ]
        },
        "legend": {
         "itemsizing": "constant",
         "tracegroupgap": 0
        },
        "mapbox": {
         "center": {
          "lat": 45.84132229714286,
          "lon": 3.395719996711402
         },
         "domain": {
          "x": [
           0,
           1
          ],
          "y": [
           0,
           1
          ]
         },
         "style": "carto-positron",
         "zoom": 4
        },
        "margin": {
         "t": 60
        },
        "template": {
         "data": {
          "bar": [
           {
            "error_x": {
             "color": "#2a3f5f"
            },
            "error_y": {
             "color": "#2a3f5f"
            },
            "marker": {
             "line": {
              "color": "#E5ECF6",
              "width": 0.5
             }
            },
            "type": "bar"
           }
          ],
          "barpolar": [
           {
            "marker": {
             "line": {
              "color": "#E5ECF6",
              "width": 0.5
             }
            },
            "type": "barpolar"
           }
          ],
          "carpet": [
           {
            "aaxis": {
             "endlinecolor": "#2a3f5f",
             "gridcolor": "white",
             "linecolor": "white",
             "minorgridcolor": "white",
             "startlinecolor": "#2a3f5f"
            },
            "baxis": {
             "endlinecolor": "#2a3f5f",
             "gridcolor": "white",
             "linecolor": "white",
             "minorgridcolor": "white",
             "startlinecolor": "#2a3f5f"
            },
            "type": "carpet"
           }
          ],
          "choropleth": [
           {
            "colorbar": {
             "outlinewidth": 0,
             "ticks": ""
            },
            "type": "choropleth"
           }
          ],
          "contour": [
           {
            "colorbar": {
             "outlinewidth": 0,
             "ticks": ""
            },
            "colorscale": [
             [
              0,
              "#0d0887"
             ],
             [
              0.1111111111111111,
              "#46039f"
             ],
             [
              0.2222222222222222,
              "#7201a8"
             ],
             [
              0.3333333333333333,
              "#9c179e"
             ],
             [
              0.4444444444444444,
              "#bd3786"
             ],
             [
              0.5555555555555556,
              "#d8576b"
             ],
             [
              0.6666666666666666,
              "#ed7953"
             ],
             [
              0.7777777777777778,
              "#fb9f3a"
             ],
             [
              0.8888888888888888,
              "#fdca26"
             ],
             [
              1,
              "#f0f921"
             ]
            ],
            "type": "contour"
           }
          ],
          "contourcarpet": [
           {
            "colorbar": {
             "outlinewidth": 0,
             "ticks": ""
            },
            "type": "contourcarpet"
           }
          ],
          "heatmap": [
           {
            "colorbar": {
             "outlinewidth": 0,
             "ticks": ""
            },
            "colorscale": [
             [
              0,
              "#0d0887"
             ],
             [
              0.1111111111111111,
              "#46039f"
             ],
             [
              0.2222222222222222,
              "#7201a8"
             ],
             [
              0.3333333333333333,
              "#9c179e"
             ],
             [
              0.4444444444444444,
              "#bd3786"
             ],
             [
              0.5555555555555556,
              "#d8576b"
             ],
             [
              0.6666666666666666,
              "#ed7953"
             ],
             [
              0.7777777777777778,
              "#fb9f3a"
             ],
             [
              0.8888888888888888,
              "#fdca26"
             ],
             [
              1,
              "#f0f921"
             ]
            ],
            "type": "heatmap"
           }
          ],
          "heatmapgl": [
           {
            "colorbar": {
             "outlinewidth": 0,
             "ticks": ""
            },
            "colorscale": [
             [
              0,
              "#0d0887"
             ],
             [
              0.1111111111111111,
              "#46039f"
             ],
             [
              0.2222222222222222,
              "#7201a8"
             ],
             [
              0.3333333333333333,
              "#9c179e"
             ],
             [
              0.4444444444444444,
              "#bd3786"
             ],
             [
              0.5555555555555556,
              "#d8576b"
             ],
             [
              0.6666666666666666,
              "#ed7953"
             ],
             [
              0.7777777777777778,
              "#fb9f3a"
             ],
             [
              0.8888888888888888,
              "#fdca26"
             ],
             [
              1,
              "#f0f921"
             ]
            ],
            "type": "heatmapgl"
           }
          ],
          "histogram": [
           {
            "marker": {
             "colorbar": {
              "outlinewidth": 0,
              "ticks": ""
             }
            },
            "type": "histogram"
           }
          ],
          "histogram2d": [
           {
            "colorbar": {
             "outlinewidth": 0,
             "ticks": ""
            },
            "colorscale": [
             [
              0,
              "#0d0887"
             ],
             [
              0.1111111111111111,
              "#46039f"
             ],
             [
              0.2222222222222222,
              "#7201a8"
             ],
             [
              0.3333333333333333,
              "#9c179e"
             ],
             [
              0.4444444444444444,
              "#bd3786"
             ],
             [
              0.5555555555555556,
              "#d8576b"
             ],
             [
              0.6666666666666666,
              "#ed7953"
             ],
             [
              0.7777777777777778,
              "#fb9f3a"
             ],
             [
              0.8888888888888888,
              "#fdca26"
             ],
             [
              1,
              "#f0f921"
             ]
            ],
            "type": "histogram2d"
           }
          ],
          "histogram2dcontour": [
           {
            "colorbar": {
             "outlinewidth": 0,
             "ticks": ""
            },
            "colorscale": [
             [
              0,
              "#0d0887"
             ],
             [
              0.1111111111111111,
              "#46039f"
             ],
             [
              0.2222222222222222,
              "#7201a8"
             ],
             [
              0.3333333333333333,
              "#9c179e"
             ],
             [
              0.4444444444444444,
              "#bd3786"
             ],
             [
              0.5555555555555556,
              "#d8576b"
             ],
             [
              0.6666666666666666,
              "#ed7953"
             ],
             [
              0.7777777777777778,
              "#fb9f3a"
             ],
             [
              0.8888888888888888,
              "#fdca26"
             ],
             [
              1,
              "#f0f921"
             ]
            ],
            "type": "histogram2dcontour"
           }
          ],
          "mesh3d": [
           {
            "colorbar": {
             "outlinewidth": 0,
             "ticks": ""
            },
            "type": "mesh3d"
           }
          ],
          "parcoords": [
           {
            "line": {
             "colorbar": {
              "outlinewidth": 0,
              "ticks": ""
             }
            },
            "type": "parcoords"
           }
          ],
          "pie": [
           {
            "automargin": true,
            "type": "pie"
           }
          ],
          "scatter": [
           {
            "marker": {
             "colorbar": {
              "outlinewidth": 0,
              "ticks": ""
             }
            },
            "type": "scatter"
           }
          ],
          "scatter3d": [
           {
            "line": {
             "colorbar": {
              "outlinewidth": 0,
              "ticks": ""
             }
            },
            "marker": {
             "colorbar": {
              "outlinewidth": 0,
              "ticks": ""
             }
            },
            "type": "scatter3d"
           }
          ],
          "scattercarpet": [
           {
            "marker": {
             "colorbar": {
              "outlinewidth": 0,
              "ticks": ""
             }
            },
            "type": "scattercarpet"
           }
          ],
          "scattergeo": [
           {
            "marker": {
             "colorbar": {
              "outlinewidth": 0,
              "ticks": ""
             }
            },
            "type": "scattergeo"
           }
          ],
          "scattergl": [
           {
            "marker": {
             "colorbar": {
              "outlinewidth": 0,
              "ticks": ""
             }
            },
            "type": "scattergl"
           }
          ],
          "scattermapbox": [
           {
            "marker": {
             "colorbar": {
              "outlinewidth": 0,
              "ticks": ""
             }
            },
            "type": "scattermapbox"
           }
          ],
          "scatterpolar": [
           {
            "marker": {
             "colorbar": {
              "outlinewidth": 0,
              "ticks": ""
             }
            },
            "type": "scatterpolar"
           }
          ],
          "scatterpolargl": [
           {
            "marker": {
             "colorbar": {
              "outlinewidth": 0,
              "ticks": ""
             }
            },
            "type": "scatterpolargl"
           }
          ],
          "scatterternary": [
           {
            "marker": {
             "colorbar": {
              "outlinewidth": 0,
              "ticks": ""
             }
            },
            "type": "scatterternary"
           }
          ],
          "surface": [
           {
            "colorbar": {
             "outlinewidth": 0,
             "ticks": ""
            },
            "colorscale": [
             [
              0,
              "#0d0887"
             ],
             [
              0.1111111111111111,
              "#46039f"
             ],
             [
              0.2222222222222222,
              "#7201a8"
             ],
             [
              0.3333333333333333,
              "#9c179e"
             ],
             [
              0.4444444444444444,
              "#bd3786"
             ],
             [
              0.5555555555555556,
              "#d8576b"
             ],
             [
              0.6666666666666666,
              "#ed7953"
             ],
             [
              0.7777777777777778,
              "#fb9f3a"
             ],
             [
              0.8888888888888888,
              "#fdca26"
             ],
             [
              1,
              "#f0f921"
             ]
            ],
            "type": "surface"
           }
          ],
          "table": [
           {
            "cells": {
             "fill": {
              "color": "#EBF0F8"
             },
             "line": {
              "color": "white"
             }
            },
            "header": {
             "fill": {
              "color": "#C8D4E3"
             },
             "line": {
              "color": "white"
             }
            },
            "type": "table"
           }
          ]
         },
         "layout": {
          "annotationdefaults": {
           "arrowcolor": "#2a3f5f",
           "arrowhead": 0,
           "arrowwidth": 1
          },
          "coloraxis": {
           "colorbar": {
            "outlinewidth": 0,
            "ticks": ""
           }
          },
          "colorscale": {
           "diverging": [
            [
             0,
             "#8e0152"
            ],
            [
             0.1,
             "#c51b7d"
            ],
            [
             0.2,
             "#de77ae"
            ],
            [
             0.3,
             "#f1b6da"
            ],
            [
             0.4,
             "#fde0ef"
            ],
            [
             0.5,
             "#f7f7f7"
            ],
            [
             0.6,
             "#e6f5d0"
            ],
            [
             0.7,
             "#b8e186"
            ],
            [
             0.8,
             "#7fbc41"
            ],
            [
             0.9,
             "#4d9221"
            ],
            [
             1,
             "#276419"
            ]
           ],
           "sequential": [
            [
             0,
             "#0d0887"
            ],
            [
             0.1111111111111111,
             "#46039f"
            ],
            [
             0.2222222222222222,
             "#7201a8"
            ],
            [
             0.3333333333333333,
             "#9c179e"
            ],
            [
             0.4444444444444444,
             "#bd3786"
            ],
            [
             0.5555555555555556,
             "#d8576b"
            ],
            [
             0.6666666666666666,
             "#ed7953"
            ],
            [
             0.7777777777777778,
             "#fb9f3a"
            ],
            [
             0.8888888888888888,
             "#fdca26"
            ],
            [
             1,
             "#f0f921"
            ]
           ],
           "sequentialminus": [
            [
             0,
             "#0d0887"
            ],
            [
             0.1111111111111111,
             "#46039f"
            ],
            [
             0.2222222222222222,
             "#7201a8"
            ],
            [
             0.3333333333333333,
             "#9c179e"
            ],
            [
             0.4444444444444444,
             "#bd3786"
            ],
            [
             0.5555555555555556,
             "#d8576b"
            ],
            [
             0.6666666666666666,
             "#ed7953"
            ],
            [
             0.7777777777777778,
             "#fb9f3a"
            ],
            [
             0.8888888888888888,
             "#fdca26"
            ],
            [
             1,
             "#f0f921"
            ]
           ]
          },
          "colorway": [
           "#636efa",
           "#EF553B",
           "#00cc96",
           "#ab63fa",
           "#FFA15A",
           "#19d3f3",
           "#FF6692",
           "#B6E880",
           "#FF97FF",
           "#FECB52"
          ],
          "font": {
           "color": "#2a3f5f"
          },
          "geo": {
           "bgcolor": "white",
           "lakecolor": "white",
           "landcolor": "#E5ECF6",
           "showlakes": true,
           "showland": true,
           "subunitcolor": "white"
          },
          "hoverlabel": {
           "align": "left"
          },
          "hovermode": "closest",
          "mapbox": {
           "style": "light"
          },
          "paper_bgcolor": "white",
          "plot_bgcolor": "#E5ECF6",
          "polar": {
           "angularaxis": {
            "gridcolor": "white",
            "linecolor": "white",
            "ticks": ""
           },
           "bgcolor": "#E5ECF6",
           "radialaxis": {
            "gridcolor": "white",
            "linecolor": "white",
            "ticks": ""
           }
          },
          "scene": {
           "xaxis": {
            "backgroundcolor": "#E5ECF6",
            "gridcolor": "white",
            "gridwidth": 2,
            "linecolor": "white",
            "showbackground": true,
            "ticks": "",
            "zerolinecolor": "white"
           },
           "yaxis": {
            "backgroundcolor": "#E5ECF6",
            "gridcolor": "white",
            "gridwidth": 2,
            "linecolor": "white",
            "showbackground": true,
            "ticks": "",
            "zerolinecolor": "white"
           },
           "zaxis": {
            "backgroundcolor": "#E5ECF6",
            "gridcolor": "white",
            "gridwidth": 2,
            "linecolor": "white",
            "showbackground": true,
            "ticks": "",
            "zerolinecolor": "white"
           }
          },
          "shapedefaults": {
           "line": {
            "color": "#2a3f5f"
           }
          },
          "ternary": {
           "aaxis": {
            "gridcolor": "white",
            "linecolor": "white",
            "ticks": ""
           },
           "baxis": {
            "gridcolor": "white",
            "linecolor": "white",
            "ticks": ""
           },
           "bgcolor": "#E5ECF6",
           "caxis": {
            "gridcolor": "white",
            "linecolor": "white",
            "ticks": ""
           }
          },
          "title": {
           "x": 0.05
          },
          "xaxis": {
           "automargin": true,
           "gridcolor": "white",
           "linecolor": "white",
           "ticks": "",
           "title": {
            "standoff": 15
           },
           "zerolinecolor": "white",
           "zerolinewidth": 2
          },
          "yaxis": {
           "automargin": true,
           "gridcolor": "white",
           "linecolor": "white",
           "ticks": "",
           "title": {
            "standoff": 15
           },
           "zerolinecolor": "white",
           "zerolinewidth": 2
          }
         }
        }
       }
      }
     },
     "metadata": {},
     "output_type": "display_data"
    }
   ],
   "source": [
    "fig =px.scatter_mapbox(df,\n",
    "                        lat='latitude',\n",
    "                        lon='longitude',\n",
    "                        #text='city',\n",
    "                        color='mean_rain',\n",
    "                        mapbox_style='carto-positron',\n",
    "                        size='mean_rain',\n",
    "                        zoom=4,\n",
    "                        hover_name='city',\n",
    "                        hover_data={\n",
    "                                    'latitude': False,\n",
    "                                    'longitude': False,\n",
    "                                    \n",
    "                        }\n",
    "                        )\n",
    "fig.show()"
   ]
  }
 ],
 "metadata": {
  "kernelspec": {
   "display_name": "base",
   "language": "python",
   "name": "python3"
  },
  "language_info": {
   "codemirror_mode": {
    "name": "ipython",
    "version": 3
   },
   "file_extension": ".py",
   "mimetype": "text/x-python",
   "name": "python",
   "nbconvert_exporter": "python",
   "pygments_lexer": "ipython3",
   "version": "3.11.4"
  }
 },
 "nbformat": 4,
 "nbformat_minor": 2
}
